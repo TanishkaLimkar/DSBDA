{
 "cells": [
  {
   "cell_type": "code",
   "execution_count": 19,
   "id": "5e4c9d08-d5a6-431d-bef2-ef6501e82da6",
   "metadata": {},
   "outputs": [],
   "source": [
    "import pandas as pd\n",
    "import numpy as np\n",
    "import matplotlib.pyplot as plt\n",
    "import seaborn as sns\n",
    "import warnings \n",
    "warnings.filterwarnings(\"ignore\")\n",
    "from sklearn.datasets import load_iris\n",
    "%matplotlib inline"
   ]
  },
  {
   "cell_type": "code",
   "execution_count": 20,
   "id": "0049d45e-be2d-48ca-878c-5d8e383bf5df",
   "metadata": {},
   "outputs": [],
   "source": [
    "df = pd.read_csv(\"nba.csv\")"
   ]
  },
  {
   "cell_type": "code",
   "execution_count": 21,
   "id": "59b0da30-ab72-4bc4-b72a-1ba7c15f19dc",
   "metadata": {},
   "outputs": [
    {
     "data": {
      "text/html": [
       "<div>\n",
       "<style scoped>\n",
       "    .dataframe tbody tr th:only-of-type {\n",
       "        vertical-align: middle;\n",
       "    }\n",
       "\n",
       "    .dataframe tbody tr th {\n",
       "        vertical-align: top;\n",
       "    }\n",
       "\n",
       "    .dataframe thead th {\n",
       "        text-align: right;\n",
       "    }\n",
       "</style>\n",
       "<table border=\"1\" class=\"dataframe\">\n",
       "  <thead>\n",
       "    <tr style=\"text-align: right;\">\n",
       "      <th></th>\n",
       "      <th>Name</th>\n",
       "      <th>Team</th>\n",
       "      <th>Number</th>\n",
       "      <th>Position</th>\n",
       "      <th>Age</th>\n",
       "      <th>Height</th>\n",
       "      <th>Weight</th>\n",
       "      <th>College</th>\n",
       "      <th>Salary</th>\n",
       "    </tr>\n",
       "  </thead>\n",
       "  <tbody>\n",
       "    <tr>\n",
       "      <th>0</th>\n",
       "      <td>Avery Bradley</td>\n",
       "      <td>Boston Celtics</td>\n",
       "      <td>0.0</td>\n",
       "      <td>PG</td>\n",
       "      <td>25.0</td>\n",
       "      <td>6-2</td>\n",
       "      <td>180.0</td>\n",
       "      <td>Texas</td>\n",
       "      <td>7730337.0</td>\n",
       "    </tr>\n",
       "    <tr>\n",
       "      <th>1</th>\n",
       "      <td>Jae Crowder</td>\n",
       "      <td>Boston Celtics</td>\n",
       "      <td>99.0</td>\n",
       "      <td>SF</td>\n",
       "      <td>25.0</td>\n",
       "      <td>6-6</td>\n",
       "      <td>235.0</td>\n",
       "      <td>Marquette</td>\n",
       "      <td>6796117.0</td>\n",
       "    </tr>\n",
       "    <tr>\n",
       "      <th>2</th>\n",
       "      <td>John Holland</td>\n",
       "      <td>Boston Celtics</td>\n",
       "      <td>30.0</td>\n",
       "      <td>SG</td>\n",
       "      <td>27.0</td>\n",
       "      <td>6-5</td>\n",
       "      <td>205.0</td>\n",
       "      <td>Boston University</td>\n",
       "      <td>NaN</td>\n",
       "    </tr>\n",
       "    <tr>\n",
       "      <th>3</th>\n",
       "      <td>R.J. Hunter</td>\n",
       "      <td>Boston Celtics</td>\n",
       "      <td>28.0</td>\n",
       "      <td>SG</td>\n",
       "      <td>22.0</td>\n",
       "      <td>6-5</td>\n",
       "      <td>185.0</td>\n",
       "      <td>Georgia State</td>\n",
       "      <td>1148640.0</td>\n",
       "    </tr>\n",
       "    <tr>\n",
       "      <th>4</th>\n",
       "      <td>Jonas Jerebko</td>\n",
       "      <td>Boston Celtics</td>\n",
       "      <td>8.0</td>\n",
       "      <td>PF</td>\n",
       "      <td>29.0</td>\n",
       "      <td>6-10</td>\n",
       "      <td>231.0</td>\n",
       "      <td>NaN</td>\n",
       "      <td>5000000.0</td>\n",
       "    </tr>\n",
       "  </tbody>\n",
       "</table>\n",
       "</div>"
      ],
      "text/plain": [
       "            Name            Team  Number Position   Age Height  Weight  \\\n",
       "0  Avery Bradley  Boston Celtics     0.0       PG  25.0    6-2   180.0   \n",
       "1    Jae Crowder  Boston Celtics    99.0       SF  25.0    6-6   235.0   \n",
       "2   John Holland  Boston Celtics    30.0       SG  27.0    6-5   205.0   \n",
       "3    R.J. Hunter  Boston Celtics    28.0       SG  22.0    6-5   185.0   \n",
       "4  Jonas Jerebko  Boston Celtics     8.0       PF  29.0   6-10   231.0   \n",
       "\n",
       "             College     Salary  \n",
       "0              Texas  7730337.0  \n",
       "1          Marquette  6796117.0  \n",
       "2  Boston University        NaN  \n",
       "3      Georgia State  1148640.0  \n",
       "4                NaN  5000000.0  "
      ]
     },
     "execution_count": 21,
     "metadata": {},
     "output_type": "execute_result"
    }
   ],
   "source": [
    "df.head()"
   ]
  },
  {
   "cell_type": "code",
   "execution_count": 22,
   "id": "7e11a9d1-d03f-4b83-b81a-f1ec4765abdc",
   "metadata": {},
   "outputs": [
    {
     "data": {
      "text/plain": [
       "(458, 9)"
      ]
     },
     "execution_count": 22,
     "metadata": {},
     "output_type": "execute_result"
    }
   ],
   "source": [
    "#stats\n",
    "df.shape"
   ]
  },
  {
   "cell_type": "code",
   "execution_count": 23,
   "id": "c5ee8780-7289-468d-b05a-6cb8e6959a18",
   "metadata": {},
   "outputs": [
    {
     "name": "stdout",
     "output_type": "stream",
     "text": [
      "<class 'pandas.core.frame.DataFrame'>\n",
      "RangeIndex: 458 entries, 0 to 457\n",
      "Data columns (total 9 columns):\n",
      " #   Column    Non-Null Count  Dtype  \n",
      "---  ------    --------------  -----  \n",
      " 0   Name      457 non-null    object \n",
      " 1   Team      457 non-null    object \n",
      " 2   Number    457 non-null    float64\n",
      " 3   Position  457 non-null    object \n",
      " 4   Age       457 non-null    float64\n",
      " 5   Height    457 non-null    object \n",
      " 6   Weight    457 non-null    float64\n",
      " 7   College   373 non-null    object \n",
      " 8   Salary    446 non-null    float64\n",
      "dtypes: float64(4), object(5)\n",
      "memory usage: 32.3+ KB\n"
     ]
    }
   ],
   "source": [
    "df.info()"
   ]
  },
  {
   "cell_type": "code",
   "execution_count": 24,
   "id": "c58b4b1c-b0fc-499c-9138-0ea7c6f02636",
   "metadata": {},
   "outputs": [
    {
     "data": {
      "text/html": [
       "<div>\n",
       "<style scoped>\n",
       "    .dataframe tbody tr th:only-of-type {\n",
       "        vertical-align: middle;\n",
       "    }\n",
       "\n",
       "    .dataframe tbody tr th {\n",
       "        vertical-align: top;\n",
       "    }\n",
       "\n",
       "    .dataframe thead th {\n",
       "        text-align: right;\n",
       "    }\n",
       "</style>\n",
       "<table border=\"1\" class=\"dataframe\">\n",
       "  <thead>\n",
       "    <tr style=\"text-align: right;\">\n",
       "      <th></th>\n",
       "      <th>Number</th>\n",
       "      <th>Age</th>\n",
       "      <th>Weight</th>\n",
       "      <th>Salary</th>\n",
       "    </tr>\n",
       "  </thead>\n",
       "  <tbody>\n",
       "    <tr>\n",
       "      <th>count</th>\n",
       "      <td>457.000000</td>\n",
       "      <td>457.000000</td>\n",
       "      <td>457.000000</td>\n",
       "      <td>4.460000e+02</td>\n",
       "    </tr>\n",
       "    <tr>\n",
       "      <th>mean</th>\n",
       "      <td>17.678337</td>\n",
       "      <td>26.938731</td>\n",
       "      <td>221.522976</td>\n",
       "      <td>4.842684e+06</td>\n",
       "    </tr>\n",
       "    <tr>\n",
       "      <th>std</th>\n",
       "      <td>15.966090</td>\n",
       "      <td>4.404016</td>\n",
       "      <td>26.368343</td>\n",
       "      <td>5.229238e+06</td>\n",
       "    </tr>\n",
       "    <tr>\n",
       "      <th>min</th>\n",
       "      <td>0.000000</td>\n",
       "      <td>19.000000</td>\n",
       "      <td>161.000000</td>\n",
       "      <td>3.088800e+04</td>\n",
       "    </tr>\n",
       "    <tr>\n",
       "      <th>25%</th>\n",
       "      <td>5.000000</td>\n",
       "      <td>24.000000</td>\n",
       "      <td>200.000000</td>\n",
       "      <td>1.044792e+06</td>\n",
       "    </tr>\n",
       "    <tr>\n",
       "      <th>50%</th>\n",
       "      <td>13.000000</td>\n",
       "      <td>26.000000</td>\n",
       "      <td>220.000000</td>\n",
       "      <td>2.839073e+06</td>\n",
       "    </tr>\n",
       "    <tr>\n",
       "      <th>75%</th>\n",
       "      <td>25.000000</td>\n",
       "      <td>30.000000</td>\n",
       "      <td>240.000000</td>\n",
       "      <td>6.500000e+06</td>\n",
       "    </tr>\n",
       "    <tr>\n",
       "      <th>max</th>\n",
       "      <td>99.000000</td>\n",
       "      <td>40.000000</td>\n",
       "      <td>307.000000</td>\n",
       "      <td>2.500000e+07</td>\n",
       "    </tr>\n",
       "  </tbody>\n",
       "</table>\n",
       "</div>"
      ],
      "text/plain": [
       "           Number         Age      Weight        Salary\n",
       "count  457.000000  457.000000  457.000000  4.460000e+02\n",
       "mean    17.678337   26.938731  221.522976  4.842684e+06\n",
       "std     15.966090    4.404016   26.368343  5.229238e+06\n",
       "min      0.000000   19.000000  161.000000  3.088800e+04\n",
       "25%      5.000000   24.000000  200.000000  1.044792e+06\n",
       "50%     13.000000   26.000000  220.000000  2.839073e+06\n",
       "75%     25.000000   30.000000  240.000000  6.500000e+06\n",
       "max     99.000000   40.000000  307.000000  2.500000e+07"
      ]
     },
     "execution_count": 24,
     "metadata": {},
     "output_type": "execute_result"
    }
   ],
   "source": [
    "df.describe()"
   ]
  },
  {
   "cell_type": "code",
   "execution_count": 25,
   "id": "dff3c33f-4087-4ffd-abea-6ab879b015d6",
   "metadata": {},
   "outputs": [
    {
     "data": {
      "text/plain": [
       "Name         1\n",
       "Team         1\n",
       "Number       1\n",
       "Position     1\n",
       "Age          1\n",
       "Height       1\n",
       "Weight       1\n",
       "College     85\n",
       "Salary      12\n",
       "dtype: int64"
      ]
     },
     "execution_count": 25,
     "metadata": {},
     "output_type": "execute_result"
    }
   ],
   "source": [
    "df.isna().sum()"
   ]
  },
  {
   "cell_type": "code",
   "execution_count": 26,
   "id": "76036d1c-4093-4242-af19-e82a7ab95212",
   "metadata": {},
   "outputs": [
    {
     "data": {
      "image/png": "[encoded data removed]",
      "text/plain": [
       "<Figure size 640x480 with 1 Axes>"
      ]
     },
     "metadata": {},
     "output_type": "display_data"
    }
   ],
   "source": [
    "df[\"Salary\"].plot(kind=\"hist\")\n",
    "plt.show()"
   ]
  },
  {
   "cell_type": "code",
   "execution_count": 27,
   "id": "7727b7db-df25-414e-918a-58a7eaa9216d",
   "metadata": {},
   "outputs": [],
   "source": [
    "df[\"Salary\"].fillna(df[\"Salary\"].mean(), inplace=True)"
   ]
  },
  {
   "cell_type": "code",
   "execution_count": 28,
   "id": "8814650c-2ea2-446e-be26-17fd1acc332e",
   "metadata": {},
   "outputs": [
    {
     "data": {
      "image/png": "[encoded data removed]",
      "text/plain": [
       "<Figure size 640x480 with 1 Axes>"
      ]
     },
     "metadata": {},
     "output_type": "display_data"
    }
   ],
   "source": [
    "df[\"Age\"].plot(kind=\"hist\")\n",
    "plt.show()"
   ]
  },
  {
   "cell_type": "code",
   "execution_count": 29,
   "id": "2334bf92-7fca-49fa-a3cf-3aa002d367f2",
   "metadata": {},
   "outputs": [],
   "source": [
    "df[\"Age\"].fillna(df[\"Age\"].mean(), inplace=True)"
   ]
  },
  {
   "cell_type": "code",
   "execution_count": 30,
   "id": "8f411bb9-c57b-4f90-854b-86ca532412b8",
   "metadata": {},
   "outputs": [
    {
     "data": {
      "image/png": "[encoded data removed]",
      "text/plain": [
       "<Figure size 640x480 with 1 Axes>"
      ]
     },
     "metadata": {},
     "output_type": "display_data"
    }
   ],
   "source": [
    "df[\"Weight\"].plot(kind=\"hist\")\n",
    "plt.show()"
   ]
  },
  {
   "cell_type": "code",
   "execution_count": null,
   "id": "790b3d4c-5d69-4b94-8d28-e8c1843a6aff",
   "metadata": {},
   "outputs": [],
   "source": []
  },
  {
   "cell_type": "code",
   "execution_count": 31,
   "id": "97555083-75f3-4bd2-b08c-84edadbe0f37",
   "metadata": {},
   "outputs": [],
   "source": [
    "df[\"Weight\"].fillna(df[\"Weight\"].mean(), inplace=True)"
   ]
  },
  {
   "cell_type": "code",
   "execution_count": 32,
   "id": "5fe94054-7ff1-46fb-b40c-619d1f4d73a5",
   "metadata": {},
   "outputs": [],
   "source": [
    "gk=df.groupby('Age')"
   ]
  },
  {
   "cell_type": "code",
   "execution_count": 33,
   "id": "48e5f9f4-5d53-4660-a033-769471dd31f3",
   "metadata": {},
   "outputs": [
    {
     "data": {
      "text/plain": [
       "26.938730853391686"
      ]
     },
     "execution_count": 33,
     "metadata": {},
     "output_type": "execute_result"
    }
   ],
   "source": [
    "df.Age.mean()"
   ]
  },
  {
   "cell_type": "code",
   "execution_count": 34,
   "id": "058c07a2-fb2e-4150-914b-d923411b1d8b",
   "metadata": {},
   "outputs": [
    {
     "data": {
      "text/plain": [
       "26.0"
      ]
     },
     "execution_count": 34,
     "metadata": {},
     "output_type": "execute_result"
    }
   ],
   "source": [
    "df.Age.median()"
   ]
  },
  {
   "cell_type": "code",
   "execution_count": 35,
   "id": "c0954b62-3e43-40f0-8c1f-4767acc0dcdd",
   "metadata": {},
   "outputs": [
    {
     "data": {
      "text/plain": [
       "0    24.0\n",
       "Name: Age, dtype: float64"
      ]
     },
     "execution_count": 35,
     "metadata": {},
     "output_type": "execute_result"
    }
   ],
   "source": [
    "df.Age.mode()"
   ]
  },
  {
   "cell_type": "code",
   "execution_count": 40,
   "id": "e63944cd-c667-47df-9e6e-f72a6c20cbe6",
   "metadata": {},
   "outputs": [
    {
     "data": {
      "text/plain": [
       "4.399195386918678"
      ]
     },
     "execution_count": 40,
     "metadata": {},
     "output_type": "execute_result"
    }
   ],
   "source": [
    "df.Age.std()"
   ]
  },
  {
   "cell_type": "code",
   "execution_count": 36,
   "id": "0521be8f-65bc-4a7b-8558-9d7990a60d79",
   "metadata": {},
   "outputs": [
    {
     "data": {
      "text/plain": [
       "Age       2.693873e+01\n",
       "Number    1.767834e+01\n",
       "Salary    4.842684e+06\n",
       "dtype: float64"
      ]
     },
     "execution_count": 36,
     "metadata": {},
     "output_type": "execute_result"
    }
   ],
   "source": [
    "df[['Age','Number','Salary']].mean()"
   ]
  },
  {
   "cell_type": "code",
   "execution_count": 37,
   "id": "cfe16b79-7aa3-42ae-af37-fcd44c51d6cb",
   "metadata": {},
   "outputs": [
    {
     "data": {
      "text/plain": [
       "Age            26.0\n",
       "Number         13.0\n",
       "Salary    2880600.0\n",
       "dtype: float64"
      ]
     },
     "execution_count": 37,
     "metadata": {},
     "output_type": "execute_result"
    }
   ],
   "source": [
    "df[['Age','Number','Salary']].median()"
   ]
  },
  {
   "cell_type": "code",
   "execution_count": 38,
   "id": "3be54d30-68b9-4c52-91fb-8f36d23123fb",
   "metadata": {},
   "outputs": [
    {
     "data": {
      "text/html": [
       "<div>\n",
       "<style scoped>\n",
       "    .dataframe tbody tr th:only-of-type {\n",
       "        vertical-align: middle;\n",
       "    }\n",
       "\n",
       "    .dataframe tbody tr th {\n",
       "        vertical-align: top;\n",
       "    }\n",
       "\n",
       "    .dataframe thead th {\n",
       "        text-align: right;\n",
       "    }\n",
       "</style>\n",
       "<table border=\"1\" class=\"dataframe\">\n",
       "  <thead>\n",
       "    <tr style=\"text-align: right;\">\n",
       "      <th></th>\n",
       "      <th>Age</th>\n",
       "      <th>Number</th>\n",
       "      <th>Salary</th>\n",
       "    </tr>\n",
       "  </thead>\n",
       "  <tbody>\n",
       "    <tr>\n",
       "      <th>0</th>\n",
       "      <td>24.0</td>\n",
       "      <td>5.0</td>\n",
       "      <td>947276.0</td>\n",
       "    </tr>\n",
       "  </tbody>\n",
       "</table>\n",
       "</div>"
      ],
      "text/plain": [
       "    Age  Number    Salary\n",
       "0  24.0     5.0  947276.0"
      ]
     },
     "execution_count": 38,
     "metadata": {},
     "output_type": "execute_result"
    }
   ],
   "source": [
    "df[['Age','Number','Salary']].mode()"
   ]
  },
  {
   "cell_type": "code",
   "execution_count": 39,
   "id": "cfe66a46-4e45-4320-8c64-5cbf599fcc6e",
   "metadata": {},
   "outputs": [
    {
     "data": {
      "text/plain": [
       "Age       4.399195e+00\n",
       "Number    1.596609e+01\n",
       "Salary    5.160126e+06\n",
       "dtype: float64"
      ]
     },
     "execution_count": 39,
     "metadata": {},
     "output_type": "execute_result"
    }
   ],
   "source": [
    "df[['Age','Number','Salary']].std()"
   ]
  },
  {
   "cell_type": "code",
   "execution_count": 17,
   "id": "1a228cfd-cf74-4cd6-b1f0-b9eb7070c3af",
   "metadata": {},
   "outputs": [
    {
     "data": {
      "text/html": [
       "<div>\n",
       "<style scoped>\n",
       "    .dataframe tbody tr th:only-of-type {\n",
       "        vertical-align: middle;\n",
       "    }\n",
       "\n",
       "    .dataframe tbody tr th {\n",
       "        vertical-align: top;\n",
       "    }\n",
       "\n",
       "    .dataframe thead th {\n",
       "        text-align: right;\n",
       "    }\n",
       "</style>\n",
       "<table border=\"1\" class=\"dataframe\">\n",
       "  <thead>\n",
       "    <tr style=\"text-align: right;\">\n",
       "      <th></th>\n",
       "      <th>Name</th>\n",
       "      <th>Team</th>\n",
       "      <th>Number</th>\n",
       "      <th>Position</th>\n",
       "      <th>Height</th>\n",
       "      <th>Weight</th>\n",
       "      <th>College</th>\n",
       "      <th>Salary</th>\n",
       "    </tr>\n",
       "    <tr>\n",
       "      <th>Age</th>\n",
       "      <th></th>\n",
       "      <th></th>\n",
       "      <th></th>\n",
       "      <th></th>\n",
       "      <th></th>\n",
       "      <th></th>\n",
       "      <th></th>\n",
       "      <th></th>\n",
       "    </tr>\n",
       "  </thead>\n",
       "  <tbody>\n",
       "    <tr>\n",
       "      <th>19.000000</th>\n",
       "      <td>Devin Booker</td>\n",
       "      <td>Phoenix Suns</td>\n",
       "      <td>1.0</td>\n",
       "      <td>SG</td>\n",
       "      <td>6-6</td>\n",
       "      <td>206.000000</td>\n",
       "      <td>Kentucky</td>\n",
       "      <td>2.127840e+06</td>\n",
       "    </tr>\n",
       "    <tr>\n",
       "      <th>20.000000</th>\n",
       "      <td>James Young</td>\n",
       "      <td>Boston Celtics</td>\n",
       "      <td>13.0</td>\n",
       "      <td>SG</td>\n",
       "      <td>6-6</td>\n",
       "      <td>215.000000</td>\n",
       "      <td>Kentucky</td>\n",
       "      <td>1.749840e+06</td>\n",
       "    </tr>\n",
       "    <tr>\n",
       "      <th>21.000000</th>\n",
       "      <td>Jordan Mickey</td>\n",
       "      <td>Boston Celtics</td>\n",
       "      <td>55.0</td>\n",
       "      <td>PF</td>\n",
       "      <td>6-8</td>\n",
       "      <td>235.000000</td>\n",
       "      <td>LSU</td>\n",
       "      <td>1.170960e+06</td>\n",
       "    </tr>\n",
       "    <tr>\n",
       "      <th>22.000000</th>\n",
       "      <td>R.J. Hunter</td>\n",
       "      <td>Boston Celtics</td>\n",
       "      <td>28.0</td>\n",
       "      <td>SG</td>\n",
       "      <td>6-5</td>\n",
       "      <td>185.000000</td>\n",
       "      <td>Georgia State</td>\n",
       "      <td>1.148640e+06</td>\n",
       "    </tr>\n",
       "    <tr>\n",
       "      <th>23.000000</th>\n",
       "      <td>Shane Larkin</td>\n",
       "      <td>Brooklyn Nets</td>\n",
       "      <td>0.0</td>\n",
       "      <td>PG</td>\n",
       "      <td>5-11</td>\n",
       "      <td>175.000000</td>\n",
       "      <td>Miami (FL)</td>\n",
       "      <td>1.500000e+06</td>\n",
       "    </tr>\n",
       "    <tr>\n",
       "      <th>24.000000</th>\n",
       "      <td>Jared Sullinger</td>\n",
       "      <td>Boston Celtics</td>\n",
       "      <td>7.0</td>\n",
       "      <td>C</td>\n",
       "      <td>6-9</td>\n",
       "      <td>260.000000</td>\n",
       "      <td>Ohio State</td>\n",
       "      <td>2.569260e+06</td>\n",
       "    </tr>\n",
       "    <tr>\n",
       "      <th>25.000000</th>\n",
       "      <td>Avery Bradley</td>\n",
       "      <td>Boston Celtics</td>\n",
       "      <td>0.0</td>\n",
       "      <td>PG</td>\n",
       "      <td>6-2</td>\n",
       "      <td>180.000000</td>\n",
       "      <td>Texas</td>\n",
       "      <td>7.730337e+06</td>\n",
       "    </tr>\n",
       "    <tr>\n",
       "      <th>26.000000</th>\n",
       "      <td>Tyler Zeller</td>\n",
       "      <td>Boston Celtics</td>\n",
       "      <td>44.0</td>\n",
       "      <td>C</td>\n",
       "      <td>7-0</td>\n",
       "      <td>253.000000</td>\n",
       "      <td>North Carolina</td>\n",
       "      <td>2.616975e+06</td>\n",
       "    </tr>\n",
       "    <tr>\n",
       "      <th>26.938731</th>\n",
       "      <td>None</td>\n",
       "      <td>None</td>\n",
       "      <td>NaN</td>\n",
       "      <td>None</td>\n",
       "      <td>None</td>\n",
       "      <td>221.522976</td>\n",
       "      <td>None</td>\n",
       "      <td>4.842684e+06</td>\n",
       "    </tr>\n",
       "    <tr>\n",
       "      <th>27.000000</th>\n",
       "      <td>John Holland</td>\n",
       "      <td>Boston Celtics</td>\n",
       "      <td>30.0</td>\n",
       "      <td>SG</td>\n",
       "      <td>6-5</td>\n",
       "      <td>205.000000</td>\n",
       "      <td>Boston University</td>\n",
       "      <td>4.842684e+06</td>\n",
       "    </tr>\n",
       "    <tr>\n",
       "      <th>28.000000</th>\n",
       "      <td>Wayne Ellington</td>\n",
       "      <td>Brooklyn Nets</td>\n",
       "      <td>21.0</td>\n",
       "      <td>SG</td>\n",
       "      <td>6-4</td>\n",
       "      <td>200.000000</td>\n",
       "      <td>North Carolina</td>\n",
       "      <td>1.500000e+06</td>\n",
       "    </tr>\n",
       "    <tr>\n",
       "      <th>29.000000</th>\n",
       "      <td>Jonas Jerebko</td>\n",
       "      <td>Boston Celtics</td>\n",
       "      <td>8.0</td>\n",
       "      <td>PF</td>\n",
       "      <td>6-10</td>\n",
       "      <td>231.000000</td>\n",
       "      <td>Missouri</td>\n",
       "      <td>5.000000e+06</td>\n",
       "    </tr>\n",
       "    <tr>\n",
       "      <th>30.000000</th>\n",
       "      <td>Arron Afflalo</td>\n",
       "      <td>New York Knicks</td>\n",
       "      <td>4.0</td>\n",
       "      <td>SG</td>\n",
       "      <td>6-5</td>\n",
       "      <td>210.000000</td>\n",
       "      <td>UCLA</td>\n",
       "      <td>8.000000e+06</td>\n",
       "    </tr>\n",
       "    <tr>\n",
       "      <th>31.000000</th>\n",
       "      <td>Andrew Bogut</td>\n",
       "      <td>Golden State Warriors</td>\n",
       "      <td>12.0</td>\n",
       "      <td>C</td>\n",
       "      <td>7-0</td>\n",
       "      <td>260.000000</td>\n",
       "      <td>Utah</td>\n",
       "      <td>1.380000e+07</td>\n",
       "    </tr>\n",
       "    <tr>\n",
       "      <th>32.000000</th>\n",
       "      <td>Jarrett Jack</td>\n",
       "      <td>Brooklyn Nets</td>\n",
       "      <td>2.0</td>\n",
       "      <td>PG</td>\n",
       "      <td>6-3</td>\n",
       "      <td>200.000000</td>\n",
       "      <td>Georgia Tech</td>\n",
       "      <td>6.300000e+06</td>\n",
       "    </tr>\n",
       "    <tr>\n",
       "      <th>33.000000</th>\n",
       "      <td>Lou Amundson</td>\n",
       "      <td>New York Knicks</td>\n",
       "      <td>17.0</td>\n",
       "      <td>PF</td>\n",
       "      <td>6-9</td>\n",
       "      <td>220.000000</td>\n",
       "      <td>UNLV</td>\n",
       "      <td>1.635476e+06</td>\n",
       "    </tr>\n",
       "    <tr>\n",
       "      <th>34.000000</th>\n",
       "      <td>Jose Calderon</td>\n",
       "      <td>New York Knicks</td>\n",
       "      <td>3.0</td>\n",
       "      <td>PG</td>\n",
       "      <td>6-3</td>\n",
       "      <td>200.000000</td>\n",
       "      <td>Oklahoma State</td>\n",
       "      <td>7.402812e+06</td>\n",
       "    </tr>\n",
       "    <tr>\n",
       "      <th>35.000000</th>\n",
       "      <td>Mike Dunleavy</td>\n",
       "      <td>Chicago Bulls</td>\n",
       "      <td>34.0</td>\n",
       "      <td>SG</td>\n",
       "      <td>6-9</td>\n",
       "      <td>230.000000</td>\n",
       "      <td>Duke</td>\n",
       "      <td>4.500000e+06</td>\n",
       "    </tr>\n",
       "    <tr>\n",
       "      <th>36.000000</th>\n",
       "      <td>Luis Scola</td>\n",
       "      <td>Toronto Raptors</td>\n",
       "      <td>4.0</td>\n",
       "      <td>PF</td>\n",
       "      <td>6-9</td>\n",
       "      <td>240.000000</td>\n",
       "      <td>Michigan</td>\n",
       "      <td>2.900000e+06</td>\n",
       "    </tr>\n",
       "    <tr>\n",
       "      <th>37.000000</th>\n",
       "      <td>Elton Brand</td>\n",
       "      <td>Philadelphia 76ers</td>\n",
       "      <td>42.0</td>\n",
       "      <td>PF</td>\n",
       "      <td>6-9</td>\n",
       "      <td>254.000000</td>\n",
       "      <td>Duke</td>\n",
       "      <td>4.842684e+06</td>\n",
       "    </tr>\n",
       "    <tr>\n",
       "      <th>38.000000</th>\n",
       "      <td>Paul Pierce</td>\n",
       "      <td>Los Angeles Clippers</td>\n",
       "      <td>34.0</td>\n",
       "      <td>SF</td>\n",
       "      <td>6-7</td>\n",
       "      <td>235.000000</td>\n",
       "      <td>Kansas</td>\n",
       "      <td>3.376000e+06</td>\n",
       "    </tr>\n",
       "    <tr>\n",
       "      <th>39.000000</th>\n",
       "      <td>Pablo Prigioni</td>\n",
       "      <td>Los Angeles Clippers</td>\n",
       "      <td>9.0</td>\n",
       "      <td>PG</td>\n",
       "      <td>6-3</td>\n",
       "      <td>185.000000</td>\n",
       "      <td>North Carolina</td>\n",
       "      <td>9.477260e+05</td>\n",
       "    </tr>\n",
       "    <tr>\n",
       "      <th>40.000000</th>\n",
       "      <td>Tim Duncan</td>\n",
       "      <td>San Antonio Spurs</td>\n",
       "      <td>21.0</td>\n",
       "      <td>C</td>\n",
       "      <td>6-11</td>\n",
       "      <td>250.000000</td>\n",
       "      <td>Wake Forest</td>\n",
       "      <td>5.250000e+06</td>\n",
       "    </tr>\n",
       "  </tbody>\n",
       "</table>\n",
       "</div>"
      ],
      "text/plain": [
       "                      Name                   Team  Number Position Height  \\\n",
       "Age                                                                         \n",
       "19.000000     Devin Booker           Phoenix Suns     1.0       SG    6-6   \n",
       "20.000000      James Young         Boston Celtics    13.0       SG    6-6   \n",
       "21.000000    Jordan Mickey         Boston Celtics    55.0       PF    6-8   \n",
       "22.000000      R.J. Hunter         Boston Celtics    28.0       SG    6-5   \n",
       "23.000000     Shane Larkin          Brooklyn Nets     0.0       PG   5-11   \n",
       "24.000000  Jared Sullinger         Boston Celtics     7.0        C    6-9   \n",
       "25.000000    Avery Bradley         Boston Celtics     0.0       PG    6-2   \n",
       "26.000000     Tyler Zeller         Boston Celtics    44.0        C    7-0   \n",
       "26.938731             None                   None     NaN     None   None   \n",
       "27.000000     John Holland         Boston Celtics    30.0       SG    6-5   \n",
       "28.000000  Wayne Ellington          Brooklyn Nets    21.0       SG    6-4   \n",
       "29.000000    Jonas Jerebko         Boston Celtics     8.0       PF   6-10   \n",
       "30.000000    Arron Afflalo        New York Knicks     4.0       SG    6-5   \n",
       "31.000000     Andrew Bogut  Golden State Warriors    12.0        C    7-0   \n",
       "32.000000     Jarrett Jack          Brooklyn Nets     2.0       PG    6-3   \n",
       "33.000000     Lou Amundson        New York Knicks    17.0       PF    6-9   \n",
       "34.000000    Jose Calderon        New York Knicks     3.0       PG    6-3   \n",
       "35.000000    Mike Dunleavy          Chicago Bulls    34.0       SG    6-9   \n",
       "36.000000       Luis Scola        Toronto Raptors     4.0       PF    6-9   \n",
       "37.000000      Elton Brand     Philadelphia 76ers    42.0       PF    6-9   \n",
       "38.000000      Paul Pierce   Los Angeles Clippers    34.0       SF    6-7   \n",
       "39.000000   Pablo Prigioni   Los Angeles Clippers     9.0       PG    6-3   \n",
       "40.000000       Tim Duncan      San Antonio Spurs    21.0        C   6-11   \n",
       "\n",
       "               Weight            College        Salary  \n",
       "Age                                                     \n",
       "19.000000  206.000000           Kentucky  2.127840e+06  \n",
       "20.000000  215.000000           Kentucky  1.749840e+06  \n",
       "21.000000  235.000000                LSU  1.170960e+06  \n",
       "22.000000  185.000000      Georgia State  1.148640e+06  \n",
       "23.000000  175.000000         Miami (FL)  1.500000e+06  \n",
       "24.000000  260.000000         Ohio State  2.569260e+06  \n",
       "25.000000  180.000000              Texas  7.730337e+06  \n",
       "26.000000  253.000000     North Carolina  2.616975e+06  \n",
       "26.938731  221.522976               None  4.842684e+06  \n",
       "27.000000  205.000000  Boston University  4.842684e+06  \n",
       "28.000000  200.000000     North Carolina  1.500000e+06  \n",
       "29.000000  231.000000           Missouri  5.000000e+06  \n",
       "30.000000  210.000000               UCLA  8.000000e+06  \n",
       "31.000000  260.000000               Utah  1.380000e+07  \n",
       "32.000000  200.000000       Georgia Tech  6.300000e+06  \n",
       "33.000000  220.000000               UNLV  1.635476e+06  \n",
       "34.000000  200.000000     Oklahoma State  7.402812e+06  \n",
       "35.000000  230.000000               Duke  4.500000e+06  \n",
       "36.000000  240.000000           Michigan  2.900000e+06  \n",
       "37.000000  254.000000               Duke  4.842684e+06  \n",
       "38.000000  235.000000             Kansas  3.376000e+06  \n",
       "39.000000  185.000000     North Carolina  9.477260e+05  \n",
       "40.000000  250.000000        Wake Forest  5.250000e+06  "
      ]
     },
     "execution_count": 17,
     "metadata": {},
     "output_type": "execute_result"
    }
   ],
   "source": [
    "gk.first()"
   ]
  },
  {
   "cell_type": "code",
   "execution_count": 41,
   "id": "e146e882-ac00-4f43-9403-bcae926ddccc",
   "metadata": {},
   "outputs": [],
   "source": [
    "bins=[19,25,31,36,40]\n",
    "labels=['19-24','25-30','31-34','35-40']\n",
    "df['AgeGroup']=pd.cut(df['Age'],bins=bins,labels=labels,right=False)"
   ]
  },
  {
   "cell_type": "code",
   "execution_count": 42,
   "id": "7b414de8-29f6-4410-9b88-280e9ca060ae",
   "metadata": {},
   "outputs": [
    {
     "data": {
      "text/plain": [
       "AgeGroup\n",
       "25-30    213\n",
       "19-24    154\n",
       "31-34     68\n",
       "35-40     20\n",
       "Name: count, dtype: int64"
      ]
     },
     "execution_count": 42,
     "metadata": {},
     "output_type": "execute_result"
    }
   ],
   "source": [
    "df['AgeGroup'].value_counts()"
   ]
  },
  {
   "cell_type": "code",
   "execution_count": 43,
   "id": "5065d3ff-6626-4e4b-90e2-7915c9fec61d",
   "metadata": {},
   "outputs": [
    {
     "data": {
      "text/plain": [
       "AgeGroup\n",
       "19-24    2.761705e+06\n",
       "25-30    5.866171e+06\n",
       "31-34    6.635271e+06\n",
       "35-40    3.897656e+06\n",
       "Name: Salary, dtype: float64"
      ]
     },
     "execution_count": 43,
     "metadata": {},
     "output_type": "execute_result"
    }
   ],
   "source": [
    "df.groupby('AgeGroup')['Salary'].mean()"
   ]
  },
  {
   "cell_type": "code",
   "execution_count": 44,
   "id": "61077118-b8ad-477e-8cca-6142002ff5c4",
   "metadata": {},
   "outputs": [
    {
     "data": {
      "text/plain": [
       "AgeGroup\n",
       "19-24    1.721380e+06\n",
       "25-30    4.050000e+06\n",
       "31-34    4.671342e+06\n",
       "35-40    2.834470e+06\n",
       "Name: Salary, dtype: float64"
      ]
     },
     "execution_count": 44,
     "metadata": {},
     "output_type": "execute_result"
    }
   ],
   "source": [
    "df.groupby('AgeGroup')['Salary'].median()"
   ]
  },
  {
   "cell_type": "code",
   "execution_count": 46,
   "id": "3805f1a1-4ea6-42d1-ae15-c811612e85ed",
   "metadata": {},
   "outputs": [
    {
     "data": {
      "text/html": [
       "<div>\n",
       "<style scoped>\n",
       "    .dataframe tbody tr th:only-of-type {\n",
       "        vertical-align: middle;\n",
       "    }\n",
       "\n",
       "    .dataframe tbody tr th {\n",
       "        vertical-align: top;\n",
       "    }\n",
       "\n",
       "    .dataframe thead th {\n",
       "        text-align: right;\n",
       "    }\n",
       "</style>\n",
       "<table border=\"1\" class=\"dataframe\">\n",
       "  <thead>\n",
       "    <tr style=\"text-align: right;\">\n",
       "      <th></th>\n",
       "      <th>count</th>\n",
       "      <th>mean</th>\n",
       "      <th>std</th>\n",
       "      <th>min</th>\n",
       "      <th>25%</th>\n",
       "      <th>50%</th>\n",
       "      <th>75%</th>\n",
       "      <th>max</th>\n",
       "    </tr>\n",
       "    <tr>\n",
       "      <th>AgeGroup</th>\n",
       "      <th></th>\n",
       "      <th></th>\n",
       "      <th></th>\n",
       "      <th></th>\n",
       "      <th></th>\n",
       "      <th></th>\n",
       "      <th></th>\n",
       "      <th></th>\n",
       "    </tr>\n",
       "  </thead>\n",
       "  <tbody>\n",
       "    <tr>\n",
       "      <th>19-24</th>\n",
       "      <td>154.0</td>\n",
       "      <td>2.761705e+06</td>\n",
       "      <td>3.164929e+06</td>\n",
       "      <td>30888.0</td>\n",
       "      <td>1000000.00</td>\n",
       "      <td>1.721380e+06</td>\n",
       "      <td>3.150510e+06</td>\n",
       "      <td>16407501.0</td>\n",
       "    </tr>\n",
       "    <tr>\n",
       "      <th>25-30</th>\n",
       "      <td>213.0</td>\n",
       "      <td>5.866171e+06</td>\n",
       "      <td>5.459484e+06</td>\n",
       "      <td>55722.0</td>\n",
       "      <td>1100602.00</td>\n",
       "      <td>4.050000e+06</td>\n",
       "      <td>8.988765e+06</td>\n",
       "      <td>22359364.0</td>\n",
       "    </tr>\n",
       "    <tr>\n",
       "      <th>31-34</th>\n",
       "      <td>68.0</td>\n",
       "      <td>6.635271e+06</td>\n",
       "      <td>6.238296e+06</td>\n",
       "      <td>200600.0</td>\n",
       "      <td>2096417.75</td>\n",
       "      <td>4.671342e+06</td>\n",
       "      <td>9.667979e+06</td>\n",
       "      <td>22970500.0</td>\n",
       "    </tr>\n",
       "    <tr>\n",
       "      <th>35-40</th>\n",
       "      <td>20.0</td>\n",
       "      <td>3.897656e+06</td>\n",
       "      <td>5.373672e+06</td>\n",
       "      <td>222888.0</td>\n",
       "      <td>947276.00</td>\n",
       "      <td>2.834470e+06</td>\n",
       "      <td>4.276685e+06</td>\n",
       "      <td>25000000.0</td>\n",
       "    </tr>\n",
       "  </tbody>\n",
       "</table>\n",
       "</div>"
      ],
      "text/plain": [
       "          count          mean           std       min         25%  \\\n",
       "AgeGroup                                                            \n",
       "19-24     154.0  2.761705e+06  3.164929e+06   30888.0  1000000.00   \n",
       "25-30     213.0  5.866171e+06  5.459484e+06   55722.0  1100602.00   \n",
       "31-34      68.0  6.635271e+06  6.238296e+06  200600.0  2096417.75   \n",
       "35-40      20.0  3.897656e+06  5.373672e+06  222888.0   947276.00   \n",
       "\n",
       "                   50%           75%         max  \n",
       "AgeGroup                                          \n",
       "19-24     1.721380e+06  3.150510e+06  16407501.0  \n",
       "25-30     4.050000e+06  8.988765e+06  22359364.0  \n",
       "31-34     4.671342e+06  9.667979e+06  22970500.0  \n",
       "35-40     2.834470e+06  4.276685e+06  25000000.0  "
      ]
     },
     "execution_count": 46,
     "metadata": {},
     "output_type": "execute_result"
    }
   ],
   "source": [
    "df.groupby('AgeGroup')['Salary'].describe()"
   ]
  },
  {
   "cell_type": "code",
   "execution_count": 21,
   "id": "776a8ae1-0cd4-437c-ab02-98dea27e4a73",
   "metadata": {},
   "outputs": [],
   "source": [
    "group=df.groupby(['Age','Weight','Salary'])"
   ]
  },
  {
   "cell_type": "code",
   "execution_count": 22,
   "id": "da923b39-9dbb-44f4-a35c-b2f624b27cce",
   "metadata": {},
   "outputs": [
    {
     "data": {
      "text/html": [
       "<div>\n",
       "<style scoped>\n",
       "    .dataframe tbody tr th:only-of-type {\n",
       "        vertical-align: middle;\n",
       "    }\n",
       "\n",
       "    .dataframe tbody tr th {\n",
       "        vertical-align: top;\n",
       "    }\n",
       "\n",
       "    .dataframe thead th {\n",
       "        text-align: right;\n",
       "    }\n",
       "</style>\n",
       "<table border=\"1\" class=\"dataframe\">\n",
       "  <thead>\n",
       "    <tr style=\"text-align: right;\">\n",
       "      <th></th>\n",
       "      <th></th>\n",
       "      <th></th>\n",
       "      <th>Name</th>\n",
       "      <th>Team</th>\n",
       "      <th>Number</th>\n",
       "      <th>Position</th>\n",
       "      <th>Height</th>\n",
       "      <th>College</th>\n",
       "    </tr>\n",
       "    <tr>\n",
       "      <th>Age</th>\n",
       "      <th>Weight</th>\n",
       "      <th>Salary</th>\n",
       "      <th></th>\n",
       "      <th></th>\n",
       "      <th></th>\n",
       "      <th></th>\n",
       "      <th></th>\n",
       "      <th></th>\n",
       "    </tr>\n",
       "  </thead>\n",
       "  <tbody>\n",
       "    <tr>\n",
       "      <th rowspan=\"2\" valign=\"top\">19.0</th>\n",
       "      <th>202.0</th>\n",
       "      <th>1733040.0</th>\n",
       "      <td>Rashad Vaughn</td>\n",
       "      <td>Milwaukee Bucks</td>\n",
       "      <td>20.0</td>\n",
       "      <td>SG</td>\n",
       "      <td>6-6</td>\n",
       "      <td>UNLV</td>\n",
       "    </tr>\n",
       "    <tr>\n",
       "      <th>206.0</th>\n",
       "      <th>2127840.0</th>\n",
       "      <td>Devin Booker</td>\n",
       "      <td>Phoenix Suns</td>\n",
       "      <td>1.0</td>\n",
       "      <td>SG</td>\n",
       "      <td>6-6</td>\n",
       "      <td>Kentucky</td>\n",
       "    </tr>\n",
       "    <tr>\n",
       "      <th rowspan=\"3\" valign=\"top\">20.0</th>\n",
       "      <th>190.0</th>\n",
       "      <th>3777720.0</th>\n",
       "      <td>Dante Exum</td>\n",
       "      <td>Utah Jazz</td>\n",
       "      <td>11.0</td>\n",
       "      <td>PG</td>\n",
       "      <td>6-6</td>\n",
       "      <td>None</td>\n",
       "    </tr>\n",
       "    <tr>\n",
       "      <th rowspan=\"2\" valign=\"top\">195.0</th>\n",
       "      <th>1282080.0</th>\n",
       "      <td>Tyus Jones</td>\n",
       "      <td>Minnesota Timberwolves</td>\n",
       "      <td>1.0</td>\n",
       "      <td>PG</td>\n",
       "      <td>6-2</td>\n",
       "      <td>Duke</td>\n",
       "    </tr>\n",
       "    <tr>\n",
       "      <th>5103120.0</th>\n",
       "      <td>D'Angelo Russell</td>\n",
       "      <td>Los Angeles Lakers</td>\n",
       "      <td>1.0</td>\n",
       "      <td>PG</td>\n",
       "      <td>6-5</td>\n",
       "      <td>Ohio State</td>\n",
       "    </tr>\n",
       "    <tr>\n",
       "      <th>...</th>\n",
       "      <th>...</th>\n",
       "      <th>...</th>\n",
       "      <td>...</td>\n",
       "      <td>...</td>\n",
       "      <td>...</td>\n",
       "      <td>...</td>\n",
       "      <td>...</td>\n",
       "      <td>...</td>\n",
       "    </tr>\n",
       "    <tr>\n",
       "      <th rowspan=\"2\" valign=\"top\">39.0</th>\n",
       "      <th>185.0</th>\n",
       "      <th>947726.0</th>\n",
       "      <td>Pablo Prigioni</td>\n",
       "      <td>Los Angeles Clippers</td>\n",
       "      <td>9.0</td>\n",
       "      <td>PG</td>\n",
       "      <td>6-3</td>\n",
       "      <td>None</td>\n",
       "    </tr>\n",
       "    <tr>\n",
       "      <th>220.0</th>\n",
       "      <th>4088019.0</th>\n",
       "      <td>Vince Carter</td>\n",
       "      <td>Memphis Grizzlies</td>\n",
       "      <td>15.0</td>\n",
       "      <td>SG</td>\n",
       "      <td>6-6</td>\n",
       "      <td>North Carolina</td>\n",
       "    </tr>\n",
       "    <tr>\n",
       "      <th rowspan=\"3\" valign=\"top\">40.0</th>\n",
       "      <th>200.0</th>\n",
       "      <th>250750.0</th>\n",
       "      <td>Andre Miller</td>\n",
       "      <td>San Antonio Spurs</td>\n",
       "      <td>24.0</td>\n",
       "      <td>PG</td>\n",
       "      <td>6-3</td>\n",
       "      <td>Utah</td>\n",
       "    </tr>\n",
       "    <tr>\n",
       "      <th>240.0</th>\n",
       "      <th>8500000.0</th>\n",
       "      <td>Kevin Garnett</td>\n",
       "      <td>Minnesota Timberwolves</td>\n",
       "      <td>21.0</td>\n",
       "      <td>PF</td>\n",
       "      <td>6-11</td>\n",
       "      <td>None</td>\n",
       "    </tr>\n",
       "    <tr>\n",
       "      <th>250.0</th>\n",
       "      <th>5250000.0</th>\n",
       "      <td>Tim Duncan</td>\n",
       "      <td>San Antonio Spurs</td>\n",
       "      <td>21.0</td>\n",
       "      <td>C</td>\n",
       "      <td>6-11</td>\n",
       "      <td>Wake Forest</td>\n",
       "    </tr>\n",
       "  </tbody>\n",
       "</table>\n",
       "<p>455 rows × 6 columns</p>\n",
       "</div>"
      ],
      "text/plain": [
       "                                   Name                    Team  Number  \\\n",
       "Age  Weight Salary                                                        \n",
       "19.0 202.0  1733040.0     Rashad Vaughn         Milwaukee Bucks    20.0   \n",
       "     206.0  2127840.0      Devin Booker            Phoenix Suns     1.0   \n",
       "20.0 190.0  3777720.0        Dante Exum               Utah Jazz    11.0   \n",
       "     195.0  1282080.0        Tyus Jones  Minnesota Timberwolves     1.0   \n",
       "            5103120.0  D'Angelo Russell      Los Angeles Lakers     1.0   \n",
       "...                                 ...                     ...     ...   \n",
       "39.0 185.0  947726.0     Pablo Prigioni    Los Angeles Clippers     9.0   \n",
       "     220.0  4088019.0      Vince Carter       Memphis Grizzlies    15.0   \n",
       "40.0 200.0  250750.0       Andre Miller       San Antonio Spurs    24.0   \n",
       "     240.0  8500000.0     Kevin Garnett  Minnesota Timberwolves    21.0   \n",
       "     250.0  5250000.0        Tim Duncan       San Antonio Spurs    21.0   \n",
       "\n",
       "                      Position Height         College  \n",
       "Age  Weight Salary                                     \n",
       "19.0 202.0  1733040.0       SG    6-6            UNLV  \n",
       "     206.0  2127840.0       SG    6-6        Kentucky  \n",
       "20.0 190.0  3777720.0       PG    6-6            None  \n",
       "     195.0  1282080.0       PG    6-2            Duke  \n",
       "            5103120.0       PG    6-5      Ohio State  \n",
       "...                        ...    ...             ...  \n",
       "39.0 185.0  947726.0        PG    6-3            None  \n",
       "     220.0  4088019.0       SG    6-6  North Carolina  \n",
       "40.0 200.0  250750.0        PG    6-3            Utah  \n",
       "     240.0  8500000.0       PF   6-11            None  \n",
       "     250.0  5250000.0        C   6-11     Wake Forest  \n",
       "\n",
       "[455 rows x 6 columns]"
      ]
     },
     "execution_count": 22,
     "metadata": {},
     "output_type": "execute_result"
    }
   ],
   "source": [
    "group.first()"
   ]
  },
  {
   "cell_type": "code",
   "execution_count": 27,
   "id": "78bb6232-076b-44e8-8b86-7cf062f3acec",
   "metadata": {},
   "outputs": [
    {
     "name": "stdout",
     "output_type": "stream",
     "text": [
      "Age\n",
      "19.000000    204.000000\n",
      "20.000000    223.736842\n",
      "21.000000    220.894737\n",
      "22.000000    224.230769\n",
      "23.000000    214.048780\n",
      "24.000000    216.744681\n",
      "25.000000    214.333333\n",
      "26.000000    228.500000\n",
      "26.938731    221.522976\n",
      "27.000000    220.463415\n",
      "28.000000    222.967742\n",
      "29.000000    233.321429\n",
      "30.000000    214.645161\n",
      "31.000000    229.772727\n",
      "32.000000    220.846154\n",
      "33.000000    226.357143\n",
      "34.000000    227.300000\n",
      "35.000000    229.222222\n",
      "36.000000    222.100000\n",
      "37.000000    239.000000\n",
      "38.000000    218.750000\n",
      "39.000000    202.500000\n",
      "40.000000    230.000000\n",
      "Name: Weight, dtype: float64\n"
     ]
    }
   ],
   "source": [
    "grouping = df.groupby('Age')['Weight'].mean()\n",
    "print(grouping)"
   ]
  },
  {
   "cell_type": "code",
   "execution_count": 28,
   "id": "da279923-15dc-4744-8044-079fa75ad194",
   "metadata": {},
   "outputs": [
    {
     "name": "stdout",
     "output_type": "stream",
     "text": [
      "Age\n",
      "19.000000    1.930440e+06\n",
      "20.000000    2.725791e+06\n",
      "21.000000    2.067380e+06\n",
      "22.000000    2.357963e+06\n",
      "23.000000    2.171719e+06\n",
      "24.000000    3.830295e+06\n",
      "25.000000    3.951130e+06\n",
      "26.000000    6.866566e+06\n",
      "26.938731    4.842684e+06\n",
      "27.000000    6.632008e+06\n",
      "28.000000    5.101559e+06\n",
      "29.000000    6.174838e+06\n",
      "30.000000    6.990272e+06\n",
      "31.000000    8.511397e+06\n",
      "32.000000    7.716958e+06\n",
      "33.000000    3.930739e+06\n",
      "34.000000    7.606030e+06\n",
      "35.000000    3.615178e+06\n",
      "36.000000    2.238120e+06\n",
      "37.000000    1.079400e+07\n",
      "38.000000    1.840041e+06\n",
      "39.000000    2.517872e+06\n",
      "40.000000    4.666917e+06\n",
      "Name: Salary, dtype: float64\n"
     ]
    }
   ],
   "source": [
    "grouping = df.groupby('Age')['Salary'].mean()\n",
    "print(grouping)"
   ]
  },
  {
   "cell_type": "code",
   "execution_count": 31,
   "id": "86c93a70-c225-4e35-a2c8-bdb0286a0cce",
   "metadata": {},
   "outputs": [
    {
     "name": "stdout",
     "output_type": "stream",
     "text": [
      "                                                        Name        Salary\n",
      "Age                                                                       \n",
      "19.000000                      [Devin Booker, Rashad Vaughn]  1.930440e+06\n",
      "20.000000  [James Young, Kristaps Porzingis, Jahlil Okafo...  2.725791e+06\n",
      "21.000000  [Jordan Mickey, Rondae Hollis-Jefferson, Chris...  2.067380e+06\n",
      "22.000000  [R.J. Hunter, Terry Rozier, Marcus Smart, Serg...  2.357963e+06\n",
      "23.000000  [Shane Larkin, Thanasis Antetokounmpo, Jerian ...  2.171719e+06\n",
      "24.000000  [Jared Sullinger, Markel Brown, Langston Gallo...  3.830295e+06\n",
      "25.000000  [Avery Bradley, Jae Crowder, Kelly Olynyk, Tho...  3.951130e+06\n",
      "26.000000  [Tyler Zeller, Sean Kilpatrick, Willie Reed, H...  6.866566e+06\n",
      "26.938731                                              [nan]  4.842684e+06\n",
      "27.000000  [John Holland, Isaiah Thomas, Evan Turner, Boj...  6.632008e+06\n",
      "28.000000  [Wayne Ellington, Brook Lopez, Donald Sloan, R...  5.101559e+06\n",
      "29.000000  [Jonas Jerebko, Amir Johnson, DeMarre Carroll,...  6.174838e+06\n",
      "30.000000  [Arron Afflalo, Kyle Lowry, Shaun Livingston, ...  6.990272e+06\n",
      "31.000000  [Andrew Bogut, Chris Paul, JJ Redick, Brandon ...  8.511397e+06\n",
      "32.000000  [Jarrett Jack, Carmelo Anthony, Sasha Vujacic,...  7.716958e+06\n",
      "33.000000  [Lou Amundson, Leandro Barbosa, Anderson Varej...  3.930739e+06\n",
      "34.000000  [Jose Calderon, Tony Allen, Zach Randolph, Bor...  7.606030e+06\n",
      "35.000000  [Mike Dunleavy, Pau Gasol, Richard Jefferson, ...  3.615178e+06\n",
      "36.000000  [Luis Scola, Jamal Crawford, Metta World Peace...  2.238120e+06\n",
      "37.000000  [Elton Brand, Kobe Bryant, Dirk Nowitzki, Chri...  1.079400e+07\n",
      "38.000000  [Paul Pierce, Jason Terry, Manu Ginobili, Nazr...  1.840041e+06\n",
      "39.000000                     [Pablo Prigioni, Vince Carter]  2.517872e+06\n",
      "40.000000          [Tim Duncan, Andre Miller, Kevin Garnett]  4.666917e+06\n"
     ]
    }
   ],
   "source": [
    "grouping= df.groupby(\"Age\").agg({\"Name\":list , \"Salary\":\"mean\"})\n",
    "print(grouping)"
   ]
  },
  {
   "cell_type": "code",
   "execution_count": 32,
   "id": "68d429bf-8571-4aa4-9f6f-871fd1c910a7",
   "metadata": {},
   "outputs": [
    {
     "name": "stdout",
     "output_type": "stream",
     "text": [
      "Age\n",
      "19.000000    1.930440e+06\n",
      "20.000000    2.481720e+06\n",
      "21.000000    1.584480e+06\n",
      "22.000000    1.793880e+06\n",
      "23.000000    1.201440e+06\n",
      "24.000000    1.535880e+06\n",
      "25.000000    1.358880e+06\n",
      "26.000000    3.325000e+06\n",
      "26.938731    4.842684e+06\n",
      "27.000000    3.425510e+06\n",
      "28.000000    4.389607e+06\n",
      "29.000000    5.271862e+06\n",
      "30.000000    5.675000e+06\n",
      "31.000000    5.439487e+06\n",
      "32.000000    5.200000e+06\n",
      "33.000000    2.300000e+06\n",
      "34.000000    6.280676e+06\n",
      "35.000000    3.750000e+06\n",
      "36.000000    1.809826e+06\n",
      "37.000000    6.666667e+06\n",
      "38.000000    1.880638e+06\n",
      "39.000000    2.517872e+06\n",
      "40.000000    5.250000e+06\n",
      "Name: Salary, dtype: float64\n"
     ]
    }
   ],
   "source": [
    "grouping = df.groupby('Age')['Salary'].median()\n",
    "print(grouping)"
   ]
  },
  {
   "cell_type": "code",
   "execution_count": 33,
   "id": "cde85aca-0308-4fe1-b78e-1aa392bbf0d9",
   "metadata": {},
   "outputs": [
    {
     "name": "stdout",
     "output_type": "stream",
     "text": [
      "                                                        Name        Salary\n",
      "Age                                                                       \n",
      "19.000000                      [Devin Booker, Rashad Vaughn]  1.930440e+06\n",
      "20.000000  [James Young, Kristaps Porzingis, Jahlil Okafo...  2.481720e+06\n",
      "21.000000  [Jordan Mickey, Rondae Hollis-Jefferson, Chris...  1.584480e+06\n",
      "22.000000  [R.J. Hunter, Terry Rozier, Marcus Smart, Serg...  1.793880e+06\n",
      "23.000000  [Shane Larkin, Thanasis Antetokounmpo, Jerian ...  1.201440e+06\n",
      "24.000000  [Jared Sullinger, Markel Brown, Langston Gallo...  1.535880e+06\n",
      "25.000000  [Avery Bradley, Jae Crowder, Kelly Olynyk, Tho...  1.358880e+06\n",
      "26.000000  [Tyler Zeller, Sean Kilpatrick, Willie Reed, H...  3.325000e+06\n",
      "26.938731                                              [nan]  4.842684e+06\n",
      "27.000000  [John Holland, Isaiah Thomas, Evan Turner, Boj...  3.425510e+06\n",
      "28.000000  [Wayne Ellington, Brook Lopez, Donald Sloan, R...  4.389607e+06\n",
      "29.000000  [Jonas Jerebko, Amir Johnson, DeMarre Carroll,...  5.271862e+06\n",
      "30.000000  [Arron Afflalo, Kyle Lowry, Shaun Livingston, ...  5.675000e+06\n",
      "31.000000  [Andrew Bogut, Chris Paul, JJ Redick, Brandon ...  5.439487e+06\n",
      "32.000000  [Jarrett Jack, Carmelo Anthony, Sasha Vujacic,...  5.200000e+06\n",
      "33.000000  [Lou Amundson, Leandro Barbosa, Anderson Varej...  2.300000e+06\n",
      "34.000000  [Jose Calderon, Tony Allen, Zach Randolph, Bor...  6.280676e+06\n",
      "35.000000  [Mike Dunleavy, Pau Gasol, Richard Jefferson, ...  3.750000e+06\n",
      "36.000000  [Luis Scola, Jamal Crawford, Metta World Peace...  1.809826e+06\n",
      "37.000000  [Elton Brand, Kobe Bryant, Dirk Nowitzki, Chri...  6.666667e+06\n",
      "38.000000  [Paul Pierce, Jason Terry, Manu Ginobili, Nazr...  1.880638e+06\n",
      "39.000000                     [Pablo Prigioni, Vince Carter]  2.517872e+06\n",
      "40.000000          [Tim Duncan, Andre Miller, Kevin Garnett]  5.250000e+06\n"
     ]
    }
   ],
   "source": [
    "grouping= df.groupby(\"Age\").agg({\"Name\":list , \"Salary\":\"median\"})\n",
    "print(grouping)"
   ]
  },
  {
   "cell_type": "code",
   "execution_count": 37,
   "id": "6775f64a-2f62-4353-a916-80e1d62dbfa7",
   "metadata": {},
   "outputs": [
    {
     "name": "stdout",
     "output_type": "stream",
     "text": [
      "Age\n",
      "19.000000    1.733040e+06\n",
      "20.000000    5.250930e+05\n",
      "21.000000    5.250930e+05\n",
      "22.000000    5.250930e+05\n",
      "23.000000    3.088800e+04\n",
      "24.000000    5.250930e+05\n",
      "25.000000    5.572200e+04\n",
      "26.000000    1.342150e+05\n",
      "26.938731    4.842684e+06\n",
      "27.000000    5.572200e+04\n",
      "28.000000    2.061920e+05\n",
      "29.000000    1.114440e+05\n",
      "30.000000    9.472760e+05\n",
      "31.000000    9.472760e+05\n",
      "32.000000    2.953270e+05\n",
      "33.000000    2.006000e+05\n",
      "34.000000    2.618940e+05\n",
      "35.000000    9.472760e+05\n",
      "36.000000    9.472760e+05\n",
      "37.000000    4.842684e+06\n",
      "38.000000    2.228880e+05\n",
      "39.000000    9.477260e+05\n",
      "40.000000    2.507500e+05\n",
      "Name: Salary, dtype: float64\n"
     ]
    }
   ],
   "source": [
    "mini= df.groupby('Age')['Salary'].min()\n",
    "print(mini)"
   ]
  },
  {
   "cell_type": "code",
   "execution_count": 36,
   "id": "48a529db-0185-4d94-99c9-aebf945311f2",
   "metadata": {},
   "outputs": [
    {
     "name": "stdout",
     "output_type": "stream",
     "text": [
      "Age\n",
      "19.000000    2.127840e+06\n",
      "20.000000    5.703600e+06\n",
      "21.000000    5.758680e+06\n",
      "22.000000    6.331404e+06\n",
      "23.000000    1.600000e+07\n",
      "24.000000    1.640750e+07\n",
      "25.000000    1.585195e+07\n",
      "26.000000    1.712011e+07\n",
      "26.938731    4.842684e+06\n",
      "27.000000    2.015862e+07\n",
      "28.000000    1.968900e+07\n",
      "29.000000    1.640750e+07\n",
      "30.000000    2.235936e+07\n",
      "31.000000    2.297050e+07\n",
      "32.000000    2.287500e+07\n",
      "33.000000    1.300000e+07\n",
      "34.000000    2.000000e+07\n",
      "35.000000    7.448760e+06\n",
      "36.000000    5.675000e+06\n",
      "37.000000    2.500000e+07\n",
      "38.000000    3.376000e+06\n",
      "39.000000    4.088019e+06\n",
      "40.000000    8.500000e+06\n",
      "Name: Salary, dtype: float64\n"
     ]
    }
   ],
   "source": [
    "maxi = df.groupby('Age')['Salary'].max()\n",
    "print(maxi)"
   ]
  },
  {
   "cell_type": "code",
   "execution_count": 38,
   "id": "c6bb9f52-dc26-4af5-b3dc-c4ca1e5aa121",
   "metadata": {},
   "outputs": [
    {
     "name": "stdout",
     "output_type": "stream",
     "text": [
      "Age\n",
      "19.000000    2.791658e+05\n",
      "20.000000    1.510913e+06\n",
      "21.000000    1.412350e+06\n",
      "22.000000    1.517378e+06\n",
      "23.000000    2.728808e+06\n",
      "24.000000    4.702753e+06\n",
      "25.000000    4.508414e+06\n",
      "26.000000    6.100471e+06\n",
      "26.938731             NaN\n",
      "27.000000    6.752122e+06\n",
      "28.000000    4.244345e+06\n",
      "29.000000    4.786782e+06\n",
      "30.000000    5.332677e+06\n",
      "31.000000    7.170163e+06\n",
      "32.000000    7.451336e+06\n",
      "33.000000    4.354293e+06\n",
      "34.000000    5.653035e+06\n",
      "35.000000    2.259354e+06\n",
      "36.000000    1.550061e+06\n",
      "37.000000    9.606489e+06\n",
      "38.000000    1.496661e+06\n",
      "39.000000    2.220522e+06\n",
      "40.000000    4.155421e+06\n",
      "Name: Salary, dtype: float64\n"
     ]
    }
   ],
   "source": [
    "stdd = df.groupby('Age')['Salary'].std()\n",
    "print(stdd)"
   ]
  },
  {
   "cell_type": "code",
   "execution_count": 39,
   "id": "17150a2c-b3c5-460c-9b6e-f6386ed627b8",
   "metadata": {},
   "outputs": [],
   "source": [
    "df = pd.read_csv(\"iris.csv\")"
   ]
  },
  {
   "cell_type": "code",
   "execution_count": 4,
   "id": "5c01dd91-b6fd-428c-858f-43d01c42199f",
   "metadata": {},
   "outputs": [
    {
     "data": {
      "text/plain": [
       "dict_keys(['data', 'target', 'frame', 'target_names', 'DESCR', 'feature_names', 'filename', 'data_module'])"
      ]
     },
     "execution_count": 4,
     "metadata": {},
     "output_type": "execute_result"
    }
   ],
   "source": [
    "iris = load_iris()\n",
    "iris.keys()"
   ]
  },
  {
   "cell_type": "code",
   "execution_count": 5,
   "id": "901b8768-8807-4699-8a72-0b59dd9f5285",
   "metadata": {},
   "outputs": [],
   "source": [
    "iris_df = pd.DataFrame(iris.data, columns = iris.feature_names)\n",
    "iris_df[\"label\"] = iris.target"
   ]
  },
  {
   "cell_type": "code",
   "execution_count": 6,
   "id": "17f03c79-e642-4299-81fa-073e6afaf2b4",
   "metadata": {},
   "outputs": [
    {
     "data": {
      "text/plain": [
       "array(['setosa', 'versicolor', 'virginica'], dtype='<U10')"
      ]
     },
     "execution_count": 6,
     "metadata": {},
     "output_type": "execute_result"
    }
   ],
   "source": [
    "iris.target_names"
   ]
  },
  {
   "cell_type": "code",
   "execution_count": 7,
   "id": "f9841442-3f53-49ec-9ce5-955f4e7aeb19",
   "metadata": {},
   "outputs": [
    {
     "data": {
      "text/plain": [
       "(150, 5)"
      ]
     },
     "execution_count": 7,
     "metadata": {},
     "output_type": "execute_result"
    }
   ],
   "source": [
    "iris_df.shape"
   ]
  },
  {
   "cell_type": "code",
   "execution_count": 8,
   "id": "c5bb4b91-48b3-476e-8942-7f8d05903831",
   "metadata": {},
   "outputs": [
    {
     "data": {
      "text/html": [
       "<div>\n",
       "<style scoped>\n",
       "    .dataframe tbody tr th:only-of-type {\n",
       "        vertical-align: middle;\n",
       "    }\n",
       "\n",
       "    .dataframe tbody tr th {\n",
       "        vertical-align: top;\n",
       "    }\n",
       "\n",
       "    .dataframe thead th {\n",
       "        text-align: right;\n",
       "    }\n",
       "</style>\n",
       "<table border=\"1\" class=\"dataframe\">\n",
       "  <thead>\n",
       "    <tr style=\"text-align: right;\">\n",
       "      <th></th>\n",
       "      <th>sepal length (cm)</th>\n",
       "      <th>sepal width (cm)</th>\n",
       "      <th>petal length (cm)</th>\n",
       "      <th>petal width (cm)</th>\n",
       "      <th>label</th>\n",
       "    </tr>\n",
       "  </thead>\n",
       "  <tbody>\n",
       "    <tr>\n",
       "      <th>0</th>\n",
       "      <td>5.1</td>\n",
       "      <td>3.5</td>\n",
       "      <td>1.4</td>\n",
       "      <td>0.2</td>\n",
       "      <td>0</td>\n",
       "    </tr>\n",
       "    <tr>\n",
       "      <th>1</th>\n",
       "      <td>4.9</td>\n",
       "      <td>3.0</td>\n",
       "      <td>1.4</td>\n",
       "      <td>0.2</td>\n",
       "      <td>0</td>\n",
       "    </tr>\n",
       "    <tr>\n",
       "      <th>2</th>\n",
       "      <td>4.7</td>\n",
       "      <td>3.2</td>\n",
       "      <td>1.3</td>\n",
       "      <td>0.2</td>\n",
       "      <td>0</td>\n",
       "    </tr>\n",
       "    <tr>\n",
       "      <th>3</th>\n",
       "      <td>4.6</td>\n",
       "      <td>3.1</td>\n",
       "      <td>1.5</td>\n",
       "      <td>0.2</td>\n",
       "      <td>0</td>\n",
       "    </tr>\n",
       "    <tr>\n",
       "      <th>4</th>\n",
       "      <td>5.0</td>\n",
       "      <td>3.6</td>\n",
       "      <td>1.4</td>\n",
       "      <td>0.2</td>\n",
       "      <td>0</td>\n",
       "    </tr>\n",
       "  </tbody>\n",
       "</table>\n",
       "</div>"
      ],
      "text/plain": [
       "   sepal length (cm)  sepal width (cm)  petal length (cm)  petal width (cm)  \\\n",
       "0                5.1               3.5                1.4               0.2   \n",
       "1                4.9               3.0                1.4               0.2   \n",
       "2                4.7               3.2                1.3               0.2   \n",
       "3                4.6               3.1                1.5               0.2   \n",
       "4                5.0               3.6                1.4               0.2   \n",
       "\n",
       "   label  \n",
       "0      0  \n",
       "1      0  \n",
       "2      0  \n",
       "3      0  \n",
       "4      0  "
      ]
     },
     "execution_count": 8,
     "metadata": {},
     "output_type": "execute_result"
    }
   ],
   "source": [
    "\n",
    "iris_df.head()"
   ]
  },
  {
   "cell_type": "code",
   "execution_count": 9,
   "id": "b27219e1-fe63-49b6-a962-a164ddaa7384",
   "metadata": {},
   "outputs": [
    {
     "name": "stdout",
     "output_type": "stream",
     "text": [
      "<class 'pandas.core.frame.DataFrame'>\n",
      "RangeIndex: 150 entries, 0 to 149\n",
      "Data columns (total 5 columns):\n",
      " #   Column             Non-Null Count  Dtype  \n",
      "---  ------             --------------  -----  \n",
      " 0   sepal length (cm)  150 non-null    float64\n",
      " 1   sepal width (cm)   150 non-null    float64\n",
      " 2   petal length (cm)  150 non-null    float64\n",
      " 3   petal width (cm)   150 non-null    float64\n",
      " 4   label              150 non-null    int64  \n",
      "dtypes: float64(4), int64(1)\n",
      "memory usage: 6.0 KB\n"
     ]
    }
   ],
   "source": [
    "\n",
    "#Basic stats\n",
    "iris_df.info()"
   ]
  },
  {
   "cell_type": "code",
   "execution_count": 10,
   "id": "48861903-5f68-4ba0-ad1a-9a4dc2f26dc0",
   "metadata": {},
   "outputs": [
    {
     "data": {
      "text/html": [
       "<div>\n",
       "<style scoped>\n",
       "    .dataframe tbody tr th:only-of-type {\n",
       "        vertical-align: middle;\n",
       "    }\n",
       "\n",
       "    .dataframe tbody tr th {\n",
       "        vertical-align: top;\n",
       "    }\n",
       "\n",
       "    .dataframe thead th {\n",
       "        text-align: right;\n",
       "    }\n",
       "</style>\n",
       "<table border=\"1\" class=\"dataframe\">\n",
       "  <thead>\n",
       "    <tr style=\"text-align: right;\">\n",
       "      <th></th>\n",
       "      <th>sepal length (cm)</th>\n",
       "      <th>sepal width (cm)</th>\n",
       "      <th>petal length (cm)</th>\n",
       "      <th>petal width (cm)</th>\n",
       "      <th>label</th>\n",
       "    </tr>\n",
       "  </thead>\n",
       "  <tbody>\n",
       "    <tr>\n",
       "      <th>count</th>\n",
       "      <td>150.000000</td>\n",
       "      <td>150.000000</td>\n",
       "      <td>150.000000</td>\n",
       "      <td>150.000000</td>\n",
       "      <td>150.000000</td>\n",
       "    </tr>\n",
       "    <tr>\n",
       "      <th>mean</th>\n",
       "      <td>5.843333</td>\n",
       "      <td>3.057333</td>\n",
       "      <td>3.758000</td>\n",
       "      <td>1.199333</td>\n",
       "      <td>1.000000</td>\n",
       "    </tr>\n",
       "    <tr>\n",
       "      <th>std</th>\n",
       "      <td>0.828066</td>\n",
       "      <td>0.435866</td>\n",
       "      <td>1.765298</td>\n",
       "      <td>0.762238</td>\n",
       "      <td>0.819232</td>\n",
       "    </tr>\n",
       "    <tr>\n",
       "      <th>min</th>\n",
       "      <td>4.300000</td>\n",
       "      <td>2.000000</td>\n",
       "      <td>1.000000</td>\n",
       "      <td>0.100000</td>\n",
       "      <td>0.000000</td>\n",
       "    </tr>\n",
       "    <tr>\n",
       "      <th>25%</th>\n",
       "      <td>5.100000</td>\n",
       "      <td>2.800000</td>\n",
       "      <td>1.600000</td>\n",
       "      <td>0.300000</td>\n",
       "      <td>0.000000</td>\n",
       "    </tr>\n",
       "    <tr>\n",
       "      <th>50%</th>\n",
       "      <td>5.800000</td>\n",
       "      <td>3.000000</td>\n",
       "      <td>4.350000</td>\n",
       "      <td>1.300000</td>\n",
       "      <td>1.000000</td>\n",
       "    </tr>\n",
       "    <tr>\n",
       "      <th>75%</th>\n",
       "      <td>6.400000</td>\n",
       "      <td>3.300000</td>\n",
       "      <td>5.100000</td>\n",
       "      <td>1.800000</td>\n",
       "      <td>2.000000</td>\n",
       "    </tr>\n",
       "    <tr>\n",
       "      <th>max</th>\n",
       "      <td>7.900000</td>\n",
       "      <td>4.400000</td>\n",
       "      <td>6.900000</td>\n",
       "      <td>2.500000</td>\n",
       "      <td>2.000000</td>\n",
       "    </tr>\n",
       "  </tbody>\n",
       "</table>\n",
       "</div>"
      ],
      "text/plain": [
       "       sepal length (cm)  sepal width (cm)  petal length (cm)  \\\n",
       "count         150.000000        150.000000         150.000000   \n",
       "mean            5.843333          3.057333           3.758000   \n",
       "std             0.828066          0.435866           1.765298   \n",
       "min             4.300000          2.000000           1.000000   \n",
       "25%             5.100000          2.800000           1.600000   \n",
       "50%             5.800000          3.000000           4.350000   \n",
       "75%             6.400000          3.300000           5.100000   \n",
       "max             7.900000          4.400000           6.900000   \n",
       "\n",
       "       petal width (cm)       label  \n",
       "count        150.000000  150.000000  \n",
       "mean           1.199333    1.000000  \n",
       "std            0.762238    0.819232  \n",
       "min            0.100000    0.000000  \n",
       "25%            0.300000    0.000000  \n",
       "50%            1.300000    1.000000  \n",
       "75%            1.800000    2.000000  \n",
       "max            2.500000    2.000000  "
      ]
     },
     "execution_count": 10,
     "metadata": {},
     "output_type": "execute_result"
    }
   ],
   "source": [
    "\n",
    "iris_df.describe()"
   ]
  },
  {
   "cell_type": "code",
   "execution_count": 11,
   "id": "27eb3dec-810e-44fe-9526-b0a2b199d419",
   "metadata": {},
   "outputs": [],
   "source": [
    "#Setosa stats\n",
    "setosa = iris_df[iris_df[\"label\"] == 0].drop(\"label\", axis=1)"
   ]
  },
  {
   "cell_type": "code",
   "execution_count": 12,
   "id": "ac75e1ea-6d76-42b3-bdb4-fc6b4c877f3b",
   "metadata": {},
   "outputs": [
    {
     "data": {
      "text/html": [
       "<div>\n",
       "<style scoped>\n",
       "    .dataframe tbody tr th:only-of-type {\n",
       "        vertical-align: middle;\n",
       "    }\n",
       "\n",
       "    .dataframe tbody tr th {\n",
       "        vertical-align: top;\n",
       "    }\n",
       "\n",
       "    .dataframe thead th {\n",
       "        text-align: right;\n",
       "    }\n",
       "</style>\n",
       "<table border=\"1\" class=\"dataframe\">\n",
       "  <thead>\n",
       "    <tr style=\"text-align: right;\">\n",
       "      <th></th>\n",
       "      <th>sepal length (cm)</th>\n",
       "      <th>sepal width (cm)</th>\n",
       "      <th>petal length (cm)</th>\n",
       "      <th>petal width (cm)</th>\n",
       "    </tr>\n",
       "  </thead>\n",
       "  <tbody>\n",
       "    <tr>\n",
       "      <th>count</th>\n",
       "      <td>50.00000</td>\n",
       "      <td>50.000000</td>\n",
       "      <td>50.000000</td>\n",
       "      <td>50.000000</td>\n",
       "    </tr>\n",
       "    <tr>\n",
       "      <th>mean</th>\n",
       "      <td>5.00600</td>\n",
       "      <td>3.428000</td>\n",
       "      <td>1.462000</td>\n",
       "      <td>0.246000</td>\n",
       "    </tr>\n",
       "    <tr>\n",
       "      <th>std</th>\n",
       "      <td>0.35249</td>\n",
       "      <td>0.379064</td>\n",
       "      <td>0.173664</td>\n",
       "      <td>0.105386</td>\n",
       "    </tr>\n",
       "    <tr>\n",
       "      <th>min</th>\n",
       "      <td>4.30000</td>\n",
       "      <td>2.300000</td>\n",
       "      <td>1.000000</td>\n",
       "      <td>0.100000</td>\n",
       "    </tr>\n",
       "    <tr>\n",
       "      <th>25%</th>\n",
       "      <td>4.80000</td>\n",
       "      <td>3.200000</td>\n",
       "      <td>1.400000</td>\n",
       "      <td>0.200000</td>\n",
       "    </tr>\n",
       "    <tr>\n",
       "      <th>50%</th>\n",
       "      <td>5.00000</td>\n",
       "      <td>3.400000</td>\n",
       "      <td>1.500000</td>\n",
       "      <td>0.200000</td>\n",
       "    </tr>\n",
       "    <tr>\n",
       "      <th>75%</th>\n",
       "      <td>5.20000</td>\n",
       "      <td>3.675000</td>\n",
       "      <td>1.575000</td>\n",
       "      <td>0.300000</td>\n",
       "    </tr>\n",
       "    <tr>\n",
       "      <th>max</th>\n",
       "      <td>5.80000</td>\n",
       "      <td>4.400000</td>\n",
       "      <td>1.900000</td>\n",
       "      <td>0.600000</td>\n",
       "    </tr>\n",
       "  </tbody>\n",
       "</table>\n",
       "</div>"
      ],
      "text/plain": [
       "       sepal length (cm)  sepal width (cm)  petal length (cm)  \\\n",
       "count           50.00000         50.000000          50.000000   \n",
       "mean             5.00600          3.428000           1.462000   \n",
       "std              0.35249          0.379064           0.173664   \n",
       "min              4.30000          2.300000           1.000000   \n",
       "25%              4.80000          3.200000           1.400000   \n",
       "50%              5.00000          3.400000           1.500000   \n",
       "75%              5.20000          3.675000           1.575000   \n",
       "max              5.80000          4.400000           1.900000   \n",
       "\n",
       "       petal width (cm)  \n",
       "count         50.000000  \n",
       "mean           0.246000  \n",
       "std            0.105386  \n",
       "min            0.100000  \n",
       "25%            0.200000  \n",
       "50%            0.200000  \n",
       "75%            0.300000  \n",
       "max            0.600000  "
      ]
     },
     "execution_count": 12,
     "metadata": {},
     "output_type": "execute_result"
    }
   ],
   "source": [
    "setosa.describe()"
   ]
  },
  {
   "cell_type": "code",
   "execution_count": null,
   "id": "95cdb8b8-e993-40fd-9c9b-cfc20577833f",
   "metadata": {},
   "outputs": [],
   "source": []
  },
  {
   "cell_type": "code",
   "execution_count": 14,
   "id": "dae72284-892b-4291-acb7-ed6c7c7c17ef",
   "metadata": {},
   "outputs": [
    {
     "data": {
      "text/html": [
       "<div>\n",
       "<style scoped>\n",
       "    .dataframe tbody tr th:only-of-type {\n",
       "        vertical-align: middle;\n",
       "    }\n",
       "\n",
       "    .dataframe tbody tr th {\n",
       "        vertical-align: top;\n",
       "    }\n",
       "\n",
       "    .dataframe thead th {\n",
       "        text-align: right;\n",
       "    }\n",
       "</style>\n",
       "<table border=\"1\" class=\"dataframe\">\n",
       "  <thead>\n",
       "    <tr style=\"text-align: right;\">\n",
       "      <th></th>\n",
       "      <th>sepal length (cm)</th>\n",
       "      <th>sepal width (cm)</th>\n",
       "      <th>petal length (cm)</th>\n",
       "      <th>petal width (cm)</th>\n",
       "    </tr>\n",
       "  </thead>\n",
       "  <tbody>\n",
       "    <tr>\n",
       "      <th>count</th>\n",
       "      <td>50.000000</td>\n",
       "      <td>50.000000</td>\n",
       "      <td>50.000000</td>\n",
       "      <td>50.000000</td>\n",
       "    </tr>\n",
       "    <tr>\n",
       "      <th>mean</th>\n",
       "      <td>5.936000</td>\n",
       "      <td>2.770000</td>\n",
       "      <td>4.260000</td>\n",
       "      <td>1.326000</td>\n",
       "    </tr>\n",
       "    <tr>\n",
       "      <th>std</th>\n",
       "      <td>0.516171</td>\n",
       "      <td>0.313798</td>\n",
       "      <td>0.469911</td>\n",
       "      <td>0.197753</td>\n",
       "    </tr>\n",
       "    <tr>\n",
       "      <th>min</th>\n",
       "      <td>4.900000</td>\n",
       "      <td>2.000000</td>\n",
       "      <td>3.000000</td>\n",
       "      <td>1.000000</td>\n",
       "    </tr>\n",
       "    <tr>\n",
       "      <th>25%</th>\n",
       "      <td>5.600000</td>\n",
       "      <td>2.525000</td>\n",
       "      <td>4.000000</td>\n",
       "      <td>1.200000</td>\n",
       "    </tr>\n",
       "    <tr>\n",
       "      <th>50%</th>\n",
       "      <td>5.900000</td>\n",
       "      <td>2.800000</td>\n",
       "      <td>4.350000</td>\n",
       "      <td>1.300000</td>\n",
       "    </tr>\n",
       "    <tr>\n",
       "      <th>75%</th>\n",
       "      <td>6.300000</td>\n",
       "      <td>3.000000</td>\n",
       "      <td>4.600000</td>\n",
       "      <td>1.500000</td>\n",
       "    </tr>\n",
       "    <tr>\n",
       "      <th>max</th>\n",
       "      <td>7.000000</td>\n",
       "      <td>3.400000</td>\n",
       "      <td>5.100000</td>\n",
       "      <td>1.800000</td>\n",
       "    </tr>\n",
       "  </tbody>\n",
       "</table>\n",
       "</div>"
      ],
      "text/plain": [
       "       sepal length (cm)  sepal width (cm)  petal length (cm)  \\\n",
       "count          50.000000         50.000000          50.000000   \n",
       "mean            5.936000          2.770000           4.260000   \n",
       "std             0.516171          0.313798           0.469911   \n",
       "min             4.900000          2.000000           3.000000   \n",
       "25%             5.600000          2.525000           4.000000   \n",
       "50%             5.900000          2.800000           4.350000   \n",
       "75%             6.300000          3.000000           4.600000   \n",
       "max             7.000000          3.400000           5.100000   \n",
       "\n",
       "       petal width (cm)  \n",
       "count         50.000000  \n",
       "mean           1.326000  \n",
       "std            0.197753  \n",
       "min            1.000000  \n",
       "25%            1.200000  \n",
       "50%            1.300000  \n",
       "75%            1.500000  \n",
       "max            1.800000  "
      ]
     },
     "execution_count": 14,
     "metadata": {},
     "output_type": "execute_result"
    }
   ],
   "source": [
    "versicolor = iris_df[iris_df[\"label\"] == 1].drop(\"label\", axis=1)\n",
    "versicolor.describe()"
   ]
  },
  {
   "cell_type": "code",
   "execution_count": null,
   "id": "51e3910a-dca7-4ec6-a2d2-40d6f8e8702a",
   "metadata": {},
   "outputs": [],
   "source": []
  },
  {
   "cell_type": "code",
   "execution_count": 16,
   "id": "6d22fe07-8910-41d3-9998-2a45fcb50680",
   "metadata": {},
   "outputs": [
    {
     "data": {
      "text/html": [
       "<div>\n",
       "<style scoped>\n",
       "    .dataframe tbody tr th:only-of-type {\n",
       "        vertical-align: middle;\n",
       "    }\n",
       "\n",
       "    .dataframe tbody tr th {\n",
       "        vertical-align: top;\n",
       "    }\n",
       "\n",
       "    .dataframe thead th {\n",
       "        text-align: right;\n",
       "    }\n",
       "</style>\n",
       "<table border=\"1\" class=\"dataframe\">\n",
       "  <thead>\n",
       "    <tr style=\"text-align: right;\">\n",
       "      <th></th>\n",
       "      <th>sepal length (cm)</th>\n",
       "      <th>sepal width (cm)</th>\n",
       "      <th>petal length (cm)</th>\n",
       "      <th>petal width (cm)</th>\n",
       "    </tr>\n",
       "  </thead>\n",
       "  <tbody>\n",
       "    <tr>\n",
       "      <th>count</th>\n",
       "      <td>50.00000</td>\n",
       "      <td>50.000000</td>\n",
       "      <td>50.000000</td>\n",
       "      <td>50.00000</td>\n",
       "    </tr>\n",
       "    <tr>\n",
       "      <th>mean</th>\n",
       "      <td>6.58800</td>\n",
       "      <td>2.974000</td>\n",
       "      <td>5.552000</td>\n",
       "      <td>2.02600</td>\n",
       "    </tr>\n",
       "    <tr>\n",
       "      <th>std</th>\n",
       "      <td>0.63588</td>\n",
       "      <td>0.322497</td>\n",
       "      <td>0.551895</td>\n",
       "      <td>0.27465</td>\n",
       "    </tr>\n",
       "    <tr>\n",
       "      <th>min</th>\n",
       "      <td>4.90000</td>\n",
       "      <td>2.200000</td>\n",
       "      <td>4.500000</td>\n",
       "      <td>1.40000</td>\n",
       "    </tr>\n",
       "    <tr>\n",
       "      <th>25%</th>\n",
       "      <td>6.22500</td>\n",
       "      <td>2.800000</td>\n",
       "      <td>5.100000</td>\n",
       "      <td>1.80000</td>\n",
       "    </tr>\n",
       "    <tr>\n",
       "      <th>50%</th>\n",
       "      <td>6.50000</td>\n",
       "      <td>3.000000</td>\n",
       "      <td>5.550000</td>\n",
       "      <td>2.00000</td>\n",
       "    </tr>\n",
       "    <tr>\n",
       "      <th>75%</th>\n",
       "      <td>6.90000</td>\n",
       "      <td>3.175000</td>\n",
       "      <td>5.875000</td>\n",
       "      <td>2.30000</td>\n",
       "    </tr>\n",
       "    <tr>\n",
       "      <th>max</th>\n",
       "      <td>7.90000</td>\n",
       "      <td>3.800000</td>\n",
       "      <td>6.900000</td>\n",
       "      <td>2.50000</td>\n",
       "    </tr>\n",
       "  </tbody>\n",
       "</table>\n",
       "</div>"
      ],
      "text/plain": [
       "       sepal length (cm)  sepal width (cm)  petal length (cm)  \\\n",
       "count           50.00000         50.000000          50.000000   \n",
       "mean             6.58800          2.974000           5.552000   \n",
       "std              0.63588          0.322497           0.551895   \n",
       "min              4.90000          2.200000           4.500000   \n",
       "25%              6.22500          2.800000           5.100000   \n",
       "50%              6.50000          3.000000           5.550000   \n",
       "75%              6.90000          3.175000           5.875000   \n",
       "max              7.90000          3.800000           6.900000   \n",
       "\n",
       "       petal width (cm)  \n",
       "count          50.00000  \n",
       "mean            2.02600  \n",
       "std             0.27465  \n",
       "min             1.40000  \n",
       "25%             1.80000  \n",
       "50%             2.00000  \n",
       "75%             2.30000  \n",
       "max             2.50000  "
      ]
     },
     "execution_count": 16,
     "metadata": {},
     "output_type": "execute_result"
    }
   ],
   "source": [
    "virginica = iris_df[iris_df[\"label\"] == 2].drop(\"label\", axis=1)\n",
    "virginica.describe()"
   ]
  },
  {
   "cell_type": "code",
   "execution_count": null,
   "id": "a094064b-a66e-4efe-85e5-ad33d57c076a",
   "metadata": {},
   "outputs": [],
   "source": [
    "\n"
   ]
  },
  {
   "cell_type": "code",
   "execution_count": null,
   "id": "6213202e-1bdd-4471-a907-3c76312fcd45",
   "metadata": {},
   "outputs": [],
   "source": []
  }
 ],
 "metadata": {
  "kernelspec": {
   "display_name": "Python 3 (ipykernel)",
   "language": "python",
   "name": "python3"
  },
  "language_info": {
   "codemirror_mode": {
    "name": "ipython",
    "version": 3
   },
   "file_extension": ".py",
   "mimetype": "text/x-python",
   "name": "python",
   "nbconvert_exporter": "python",
   "pygments_lexer": "ipython3",
   "version": "3.10.12"
  }
 },
 "nbformat": 4,
 "nbformat_minor": 5
}
