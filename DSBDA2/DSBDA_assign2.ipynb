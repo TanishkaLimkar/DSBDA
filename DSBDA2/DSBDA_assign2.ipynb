{
 "cells": [
  {
   "cell_type": "code",
   "execution_count": 1,
   "id": "16a768b0",
   "metadata": {},
   "outputs": [],
   "source": [
    "import numpy as np\n",
    "import pandas as pd"
   ]
  },
  {
   "cell_type": "code",
   "execution_count": 2,
   "id": "914ee5d4",
   "metadata": {},
   "outputs": [],
   "source": [
    "df = pd.read_csv(\"student_performance_2.csv\")"
   ]
  },
  {
   "cell_type": "code",
   "execution_count": 3,
   "id": "adb0d4e9",
   "metadata": {},
   "outputs": [
    {
     "data": {
      "text/html": [
       "<div>\n",
       "<style scoped>\n",
       "    .dataframe tbody tr th:only-of-type {\n",
       "        vertical-align: middle;\n",
       "    }\n",
       "\n",
       "    .dataframe tbody tr th {\n",
       "        vertical-align: top;\n",
       "    }\n",
       "\n",
       "    .dataframe thead th {\n",
       "        text-align: right;\n",
       "    }\n",
       "</style>\n",
       "<table border=\"1\" class=\"dataframe\">\n",
       "  <thead>\n",
       "    <tr style=\"text-align: right;\">\n",
       "      <th></th>\n",
       "      <th>Student ID</th>\n",
       "      <th>Gender</th>\n",
       "      <th>Age</th>\n",
       "      <th>School</th>\n",
       "      <th>Math Score</th>\n",
       "      <th>Reading Score</th>\n",
       "      <th>Writing Score</th>\n",
       "      <th>Class Performance</th>\n",
       "    </tr>\n",
       "  </thead>\n",
       "  <tbody>\n",
       "    <tr>\n",
       "      <th>0</th>\n",
       "      <td>False</td>\n",
       "      <td>False</td>\n",
       "      <td>False</td>\n",
       "      <td>False</td>\n",
       "      <td>False</td>\n",
       "      <td>False</td>\n",
       "      <td>False</td>\n",
       "      <td>False</td>\n",
       "    </tr>\n",
       "    <tr>\n",
       "      <th>1</th>\n",
       "      <td>False</td>\n",
       "      <td>False</td>\n",
       "      <td>False</td>\n",
       "      <td>False</td>\n",
       "      <td>False</td>\n",
       "      <td>False</td>\n",
       "      <td>False</td>\n",
       "      <td>False</td>\n",
       "    </tr>\n",
       "    <tr>\n",
       "      <th>2</th>\n",
       "      <td>False</td>\n",
       "      <td>False</td>\n",
       "      <td>False</td>\n",
       "      <td>False</td>\n",
       "      <td>False</td>\n",
       "      <td>False</td>\n",
       "      <td>False</td>\n",
       "      <td>False</td>\n",
       "    </tr>\n",
       "    <tr>\n",
       "      <th>3</th>\n",
       "      <td>False</td>\n",
       "      <td>False</td>\n",
       "      <td>False</td>\n",
       "      <td>False</td>\n",
       "      <td>False</td>\n",
       "      <td>False</td>\n",
       "      <td>False</td>\n",
       "      <td>False</td>\n",
       "    </tr>\n",
       "    <tr>\n",
       "      <th>4</th>\n",
       "      <td>False</td>\n",
       "      <td>False</td>\n",
       "      <td>False</td>\n",
       "      <td>False</td>\n",
       "      <td>False</td>\n",
       "      <td>False</td>\n",
       "      <td>False</td>\n",
       "      <td>False</td>\n",
       "    </tr>\n",
       "    <tr>\n",
       "      <th>...</th>\n",
       "      <td>...</td>\n",
       "      <td>...</td>\n",
       "      <td>...</td>\n",
       "      <td>...</td>\n",
       "      <td>...</td>\n",
       "      <td>...</td>\n",
       "      <td>...</td>\n",
       "      <td>...</td>\n",
       "    </tr>\n",
       "    <tr>\n",
       "      <th>6995</th>\n",
       "      <td>False</td>\n",
       "      <td>False</td>\n",
       "      <td>False</td>\n",
       "      <td>False</td>\n",
       "      <td>False</td>\n",
       "      <td>False</td>\n",
       "      <td>False</td>\n",
       "      <td>False</td>\n",
       "    </tr>\n",
       "    <tr>\n",
       "      <th>6996</th>\n",
       "      <td>False</td>\n",
       "      <td>False</td>\n",
       "      <td>False</td>\n",
       "      <td>False</td>\n",
       "      <td>False</td>\n",
       "      <td>False</td>\n",
       "      <td>False</td>\n",
       "      <td>False</td>\n",
       "    </tr>\n",
       "    <tr>\n",
       "      <th>6997</th>\n",
       "      <td>False</td>\n",
       "      <td>False</td>\n",
       "      <td>False</td>\n",
       "      <td>False</td>\n",
       "      <td>False</td>\n",
       "      <td>False</td>\n",
       "      <td>False</td>\n",
       "      <td>False</td>\n",
       "    </tr>\n",
       "    <tr>\n",
       "      <th>6998</th>\n",
       "      <td>False</td>\n",
       "      <td>False</td>\n",
       "      <td>False</td>\n",
       "      <td>False</td>\n",
       "      <td>False</td>\n",
       "      <td>False</td>\n",
       "      <td>False</td>\n",
       "      <td>False</td>\n",
       "    </tr>\n",
       "    <tr>\n",
       "      <th>6999</th>\n",
       "      <td>False</td>\n",
       "      <td>False</td>\n",
       "      <td>False</td>\n",
       "      <td>False</td>\n",
       "      <td>False</td>\n",
       "      <td>False</td>\n",
       "      <td>False</td>\n",
       "      <td>False</td>\n",
       "    </tr>\n",
       "  </tbody>\n",
       "</table>\n",
       "<p>7000 rows × 8 columns</p>\n",
       "</div>"
      ],
      "text/plain": [
       "      Student ID  Gender    Age  School  Math Score  Reading Score   \n",
       "0          False   False  False   False       False          False  \\\n",
       "1          False   False  False   False       False          False   \n",
       "2          False   False  False   False       False          False   \n",
       "3          False   False  False   False       False          False   \n",
       "4          False   False  False   False       False          False   \n",
       "...          ...     ...    ...     ...         ...            ...   \n",
       "6995       False   False  False   False       False          False   \n",
       "6996       False   False  False   False       False          False   \n",
       "6997       False   False  False   False       False          False   \n",
       "6998       False   False  False   False       False          False   \n",
       "6999       False   False  False   False       False          False   \n",
       "\n",
       "      Writing Score  Class Performance  \n",
       "0             False              False  \n",
       "1             False              False  \n",
       "2             False              False  \n",
       "3             False              False  \n",
       "4             False              False  \n",
       "...             ...                ...  \n",
       "6995          False              False  \n",
       "6996          False              False  \n",
       "6997          False              False  \n",
       "6998          False              False  \n",
       "6999          False              False  \n",
       "\n",
       "[7000 rows x 8 columns]"
      ]
     },
     "execution_count": 3,
     "metadata": {},
     "output_type": "execute_result"
    }
   ],
   "source": [
    "df.isnull()"
   ]
  },
  {
   "cell_type": "code",
   "execution_count": 4,
   "id": "55e5753e",
   "metadata": {},
   "outputs": [
    {
     "data": {
      "text/plain": [
       "Student ID             0\n",
       "Gender                 0\n",
       "Age                    0\n",
       "School                 0\n",
       "Math Score           358\n",
       "Reading Score        345\n",
       "Writing Score        337\n",
       "Class Performance      0\n",
       "dtype: int64"
      ]
     },
     "execution_count": 4,
     "metadata": {},
     "output_type": "execute_result"
    }
   ],
   "source": [
    "df.isnull().sum()"
   ]
  },
  {
   "cell_type": "code",
   "execution_count": 5,
   "id": "db0d4017",
   "metadata": {},
   "outputs": [
    {
     "data": {
      "text/plain": [
       "1040"
      ]
     },
     "execution_count": 5,
     "metadata": {},
     "output_type": "execute_result"
    }
   ],
   "source": [
    "df.isnull().sum().sum()"
   ]
  },
  {
   "cell_type": "code",
   "execution_count": 6,
   "id": "e5f7bc2e",
   "metadata": {},
   "outputs": [],
   "source": [
    "df['Math Score'] = df['Math Score'].fillna(df['Math Score'].mean())"
   ]
  },
  {
   "cell_type": "code",
   "execution_count": 7,
   "id": "ff218ec7",
   "metadata": {},
   "outputs": [
    {
     "data": {
      "text/plain": [
       "Student ID             0\n",
       "Gender                 0\n",
       "Age                    0\n",
       "School                 0\n",
       "Math Score             0\n",
       "Reading Score        345\n",
       "Writing Score        337\n",
       "Class Performance      0\n",
       "dtype: int64"
      ]
     },
     "execution_count": 7,
     "metadata": {},
     "output_type": "execute_result"
    }
   ],
   "source": [
    "df.isnull().sum()"
   ]
  },
  {
   "cell_type": "code",
   "execution_count": 8,
   "id": "a9adcce8",
   "metadata": {},
   "outputs": [],
   "source": [
    "df['Reading Score'] = df['Reading Score'].fillna(df['Reading Score'].median())"
   ]
  },
  {
   "cell_type": "code",
   "execution_count": 9,
   "id": "e2697114",
   "metadata": {},
   "outputs": [
    {
     "data": {
      "text/plain": [
       "Student ID             0\n",
       "Gender                 0\n",
       "Age                    0\n",
       "School                 0\n",
       "Math Score             0\n",
       "Reading Score          0\n",
       "Writing Score        337\n",
       "Class Performance      0\n",
       "dtype: int64"
      ]
     },
     "execution_count": 9,
     "metadata": {},
     "output_type": "execute_result"
    }
   ],
   "source": [
    "df.isnull().sum()"
   ]
  },
  {
   "cell_type": "code",
   "execution_count": 10,
   "id": "f54fb36f",
   "metadata": {},
   "outputs": [],
   "source": [
    "df['Writing Score'] = df['Writing Score'].fillna(df['Writing Score'].min())"
   ]
  },
  {
   "cell_type": "code",
   "execution_count": 11,
   "id": "4c08e317",
   "metadata": {},
   "outputs": [
    {
     "data": {
      "text/plain": [
       "Student ID           0\n",
       "Gender               0\n",
       "Age                  0\n",
       "School               0\n",
       "Math Score           0\n",
       "Reading Score        0\n",
       "Writing Score        0\n",
       "Class Performance    0\n",
       "dtype: int64"
      ]
     },
     "execution_count": 11,
     "metadata": {},
     "output_type": "execute_result"
    }
   ],
   "source": [
    "df.isnull().sum()"
   ]
  },
  {
   "cell_type": "code",
   "execution_count": 12,
   "id": "bf6348ac",
   "metadata": {},
   "outputs": [
    {
     "data": {
      "text/plain": [
       "Student ID             int64\n",
       "Gender                object\n",
       "Age                    int64\n",
       "School                object\n",
       "Math Score           float64\n",
       "Reading Score        float64\n",
       "Writing Score        float64\n",
       "Class Performance     object\n",
       "dtype: object"
      ]
     },
     "execution_count": 12,
     "metadata": {},
     "output_type": "execute_result"
    }
   ],
   "source": [
    "df.dtypes"
   ]
  },
  {
   "cell_type": "code",
   "execution_count": 13,
   "id": "c1291e3c",
   "metadata": {},
   "outputs": [
    {
     "name": "stdout",
     "output_type": "stream",
     "text": [
      "mean=50.049 stdv=4.994\n"
     ]
    }
   ],
   "source": [
    "from numpy.random import seed\n",
    "from numpy.random import randn\n",
    "from numpy import mean\n",
    "from numpy import std\n",
    "\n",
    "seed(1)\n",
    "data= 5*randn(10000)+50\n",
    "print('mean=%.3f stdv=%.3f' %(mean(data),std(data)))"
   ]
  },
  {
   "cell_type": "code",
   "execution_count": 19,
   "id": "591d1534",
   "metadata": {},
   "outputs": [
    {
     "data": {
      "text/plain": [
       "[65.15428556186015,\n",
       " 69.79301352018982,\n",
       " 66.60539378085183,\n",
       " 34.73117809786848,\n",
       " 34.23321274904475,\n",
       " 34.91984007395351,\n",
       " 67.1633171589778,\n",
       " 34.679293219474495,\n",
       " 68.70124451852294,\n",
       " 65.67523670043954,\n",
       " 66.19171598376188,\n",
       " 33.73482882511691,\n",
       " 65.66014864070253,\n",
       " 65.06377284118616,\n",
       " 34.0469182658796,\n",
       " 33.6969245211173,\n",
       " 67.02151137874486,\n",
       " 65.59239795391275,\n",
       " 66.49270261640393,\n",
       " 65.74492012609815,\n",
       " 33.525707966507426,\n",
       " 34.72183379792847,\n",
       " 70.1342452227369,\n",
       " 33.90433947188079,\n",
       " 65.55945915508362,\n",
       " 68.06638503541573,\n",
       " 66.99057828251213,\n",
       " 67.80436660352774,\n",
       " 31.717799503726024]"
      ]
     },
     "execution_count": 19,
     "metadata": {},
     "output_type": "execute_result"
    }
   ],
   "source": [
    "\n",
    "outliers=[x for x in data if x<lower or x>upper]\n",
    "outliers\n"
   ]
  },
  {
   "cell_type": "code",
   "execution_count": 16,
   "id": "7a126b1a",
   "metadata": {},
   "outputs": [],
   "source": [
    "data_mean=mean(data)\n",
    "data_std= std(data)\n",
    "cut_off = data_std*3\n",
    "lower = data_mean-cut_off\n",
    "upper = data_mean+ cut_off"
   ]
  },
  {
   "cell_type": "code",
   "execution_count": 20,
   "id": "c2f78382",
   "metadata": {},
   "outputs": [
    {
     "data": {
      "text/plain": [
       "[<matplotlib.lines.Line2D at 0x7f0ad27604f0>]"
      ]
     },
     "execution_count": 20,
     "metadata": {},
     "output_type": "execute_result"
    },
    {
     "data": {
      "image/png": "[encoded data removed]",
      "text/plain": [
       "<Figure size 640x480 with 1 Axes>"
      ]
     },
     "metadata": {},
     "output_type": "display_data"
    }
   ],
   "source": [
    "import matplotlib.pyplot as plt\n",
    "plt.plot(data)\n"
   ]
  },
  {
   "cell_type": "code",
   "execution_count": 21,
   "id": "8f8de74d",
   "metadata": {},
   "outputs": [
    {
     "data": {
      "text/plain": [
       "[<matplotlib.lines.Line2D at 0x7f0ad52bb700>]"
      ]
     },
     "execution_count": 21,
     "metadata": {},
     "output_type": "execute_result"
    },
    {
     "data": {
      "image/png": "[encoded data removed]",
      "text/plain": [
       "<Figure size 640x480 with 1 Axes>"
      ]
     },
     "metadata": {},
     "output_type": "display_data"
    }
   ],
   "source": [
    "\n",
    "outliers_removed = [x for x in data if x >=lower or x <=upper]\n",
    "plt.plot(outliers_removed)"
   ]
  },
  {
   "cell_type": "code",
   "execution_count": 22,
   "id": "6a489538",
   "metadata": {},
   "outputs": [],
   "source": [
    "from sklearn.preprocessing import MinMaxScaler\n"
   ]
  },
  {
   "cell_type": "code",
   "execution_count": 23,
   "id": "4897e8bb",
   "metadata": {},
   "outputs": [],
   "source": [
    "mms = MinMaxScaler()"
   ]
  },
  {
   "cell_type": "code",
   "execution_count": 26,
   "id": "c1981858",
   "metadata": {},
   "outputs": [],
   "source": [
    "df[['Math Score','Reading Score','Writing Score']]=mms.fit_transform(df[['Math Score','Reading Score','Writing Score']])"
   ]
  },
  {
   "cell_type": "code",
   "execution_count": 28,
   "id": "6ac9496d",
   "metadata": {},
   "outputs": [
    {
     "data": {
      "text/html": [
       "<div>\n",
       "<style scoped>\n",
       "    .dataframe tbody tr th:only-of-type {\n",
       "        vertical-align: middle;\n",
       "    }\n",
       "\n",
       "    .dataframe tbody tr th {\n",
       "        vertical-align: top;\n",
       "    }\n",
       "\n",
       "    .dataframe thead th {\n",
       "        text-align: right;\n",
       "    }\n",
       "</style>\n",
       "<table border=\"1\" class=\"dataframe\">\n",
       "  <thead>\n",
       "    <tr style=\"text-align: right;\">\n",
       "      <th></th>\n",
       "      <th>Student ID</th>\n",
       "      <th>Gender</th>\n",
       "      <th>Age</th>\n",
       "      <th>School</th>\n",
       "      <th>Math Score</th>\n",
       "      <th>Reading Score</th>\n",
       "      <th>Writing Score</th>\n",
       "      <th>Class Performance</th>\n",
       "    </tr>\n",
       "  </thead>\n",
       "  <tbody>\n",
       "    <tr>\n",
       "      <th>0</th>\n",
       "      <td>1</td>\n",
       "      <td>Male</td>\n",
       "      <td>18</td>\n",
       "      <td>C</td>\n",
       "      <td>0.433333</td>\n",
       "      <td>0.377778</td>\n",
       "      <td>0.426966</td>\n",
       "      <td>C</td>\n",
       "    </tr>\n",
       "    <tr>\n",
       "      <th>1</th>\n",
       "      <td>2</td>\n",
       "      <td>Male</td>\n",
       "      <td>17</td>\n",
       "      <td>D</td>\n",
       "      <td>0.200000</td>\n",
       "      <td>0.011111</td>\n",
       "      <td>0.426966</td>\n",
       "      <td>B</td>\n",
       "    </tr>\n",
       "    <tr>\n",
       "      <th>2</th>\n",
       "      <td>3</td>\n",
       "      <td>Female</td>\n",
       "      <td>21</td>\n",
       "      <td>B</td>\n",
       "      <td>0.077778</td>\n",
       "      <td>0.388889</td>\n",
       "      <td>0.202247</td>\n",
       "      <td>A</td>\n",
       "    </tr>\n",
       "    <tr>\n",
       "      <th>3</th>\n",
       "      <td>4</td>\n",
       "      <td>Female</td>\n",
       "      <td>20</td>\n",
       "      <td>E</td>\n",
       "      <td>0.077778</td>\n",
       "      <td>0.077778</td>\n",
       "      <td>0.292135</td>\n",
       "      <td>C</td>\n",
       "    </tr>\n",
       "    <tr>\n",
       "      <th>4</th>\n",
       "      <td>5</td>\n",
       "      <td>Female</td>\n",
       "      <td>20</td>\n",
       "      <td>B</td>\n",
       "      <td>0.066667</td>\n",
       "      <td>0.233333</td>\n",
       "      <td>0.157303</td>\n",
       "      <td>B</td>\n",
       "    </tr>\n",
       "  </tbody>\n",
       "</table>\n",
       "</div>"
      ],
      "text/plain": [
       "   Student ID  Gender  Age School  Math Score  Reading Score  Writing Score   \n",
       "0           1    Male   18      C    0.433333       0.377778       0.426966  \\\n",
       "1           2    Male   17      D    0.200000       0.011111       0.426966   \n",
       "2           3  Female   21      B    0.077778       0.388889       0.202247   \n",
       "3           4  Female   20      E    0.077778       0.077778       0.292135   \n",
       "4           5  Female   20      B    0.066667       0.233333       0.157303   \n",
       "\n",
       "  Class Performance  \n",
       "0                 C  \n",
       "1                 B  \n",
       "2                 A  \n",
       "3                 C  \n",
       "4                 B  "
      ]
     },
     "execution_count": 28,
     "metadata": {},
     "output_type": "execute_result"
    }
   ],
   "source": [
    "df.head()"
   ]
  },
  {
   "cell_type": "code",
   "execution_count": null,
   "id": "3e3c3fb9",
   "metadata": {},
   "outputs": [],
   "source": []
  }
 ],
 "metadata": {
  "kernelspec": {
   "display_name": "Python 3 (ipykernel)",
   "language": "python",
   "name": "python3"
  },
  "language_info": {
   "codemirror_mode": {
    "name": "ipython",
    "version": 3
   },
   "file_extension": ".py",
   "mimetype": "text/x-python",
   "name": "python",
   "nbconvert_exporter": "python",
   "pygments_lexer": "ipython3",
   "version": "3.8.10"
  }
 },
 "nbformat": 4,
 "nbformat_minor": 5
}
